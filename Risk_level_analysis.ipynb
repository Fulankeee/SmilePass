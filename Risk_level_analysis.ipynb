{
 "cells": [
  {
   "cell_type": "code",
   "execution_count": 50,
   "metadata": {},
   "outputs": [],
   "source": [
    "import pandas as pd"
   ]
  },
  {
   "cell_type": "code",
   "execution_count": 51,
   "metadata": {},
   "outputs": [],
   "source": [
    "# 1. Load the risk mapping from the text file\n",
    "risk_map = {}\n",
    "with open(r\"C:\\Frank\\UoT 2024-2025\\MIE8888 Project\\M13\\risk_levels_RUIWU.txt\", 'r') as f:\n",
    "    for line in f:\n",
    "        line = line.strip()\n",
    "        # Skip headers and blank or separator lines\n",
    "        if not line or line.startswith(\"procedure_code\") or line.startswith(\"#####\"):\n",
    "            continue\n",
    "        parts = line.split(',')\n",
    "        if len(parts) == 2:\n",
    "            code = parts[0].strip()\n",
    "            try:\n",
    "                risk = float(parts[1].strip())\n",
    "            except ValueError:\n",
    "                risk = 0.0\n",
    "            risk_map[code] = risk"
   ]
  },
  {
   "cell_type": "code",
   "execution_count": 52,
   "metadata": {},
   "outputs": [
    {
     "data": {
      "text/plain": [
       "{'11101': -3.0,\n",
       " '11107': -2.0,\n",
       " '11111': -1.0,\n",
       " '11112': -3.0,\n",
       " '11113': -2.0,\n",
       " '11114': -1.0,\n",
       " '11115': -3.0,\n",
       " '11116': -2.0,\n",
       " '12111': 0.0,\n",
       " '16511': -2.0,\n",
       " '16401': -1.0,\n",
       " '16202': -1.0,\n",
       " '16201': -1.0,\n",
       " '16102': 0.0,\n",
       " '16101': 0.0,\n",
       " '33141': 6.0,\n",
       " '33135': 6.0,\n",
       " '33134': 5.0,\n",
       " '33133': 6.0,\n",
       " '33131': 6.0,\n",
       " '33125': 6.0,\n",
       " '33124': 6.0,\n",
       " '33122': 5.0,\n",
       " '33121': 4.0,\n",
       " '33115': 6.0,\n",
       " '33114': 6.0,\n",
       " '33113': 5.0,\n",
       " '33112': 6.0,\n",
       " '33111': 4.0,\n",
       " '33105': 6.0,\n",
       " '33104': 6.0,\n",
       " '33102': 6.0,\n",
       " '33101': 4.0}"
      ]
     },
     "execution_count": 52,
     "metadata": {},
     "output_type": "execute_result"
    }
   ],
   "source": [
    "risk_map"
   ]
  },
  {
   "cell_type": "code",
   "execution_count": 53,
   "metadata": {},
   "outputs": [],
   "source": [
    "# 2. Load the full patient data from CSV\n",
    "# df = pd.read_csv(r\"C:\\Frank\\UoT 2024-2025\\MIE8888 Project\\Data\\Complete Data\\21_treatements_backup_joined_patients_procedure_na_removed.csv\")\n",
    "df = pd.read_csv(r\"C:\\Frank\\UoT 2024-2025\\MIE8888 Project\\Data\\Complete Data\\Mytestdataset.csv\")\n",
    "df['procedure_year'] = pd.to_datetime(df['procedure_date']).dt.year\n",
    "df['age_at_filling'] = df['procedure_year'] - pd.to_datetime(df['birth_date']).dt.year"
   ]
  },
  {
   "cell_type": "code",
   "execution_count": 55,
   "metadata": {},
   "outputs": [],
   "source": [
    "# 3. Map each treatment's procedure code to its risk value.\n",
    "df['risk'] = df['procedure_code_y'].astype(str).map(risk_map)\n",
    "# fill missing risk values with 0 (if any procedure code is not found in risk_map).\n",
    "df['risk'] = df['risk'].fillna(0)"
   ]
  },
  {
   "cell_type": "code",
   "execution_count": null,
   "metadata": {},
   "outputs": [
    {
     "data": {
      "application/vnd.microsoft.datawrangler.viewer.v0+json": {
       "columns": [
        {
         "name": "index",
         "rawType": "int64",
         "type": "integer"
        },
        {
         "name": "patient_id",
         "rawType": "int64",
         "type": "integer"
        },
        {
         "name": "birth_date",
         "rawType": "object",
         "type": "string"
        },
        {
         "name": "first_visit",
         "rawType": "object",
         "type": "string"
        },
        {
         "name": "last_visit",
         "rawType": "object",
         "type": "string"
        },
        {
         "name": "procedure_code_x",
         "rawType": "int64",
         "type": "integer"
        },
        {
         "name": "procedure_date",
         "rawType": "object",
         "type": "string"
        },
        {
         "name": "procedure_year",
         "rawType": "int32",
         "type": "integer"
        },
        {
         "name": "age_at_filling",
         "rawType": "float64",
         "type": "float"
        },
        {
         "name": "risk",
         "rawType": "float64",
         "type": "float"
        }
       ],
       "conversionMethod": "pd.DataFrame",
       "ref": "b7acb284-ec4e-4fbb-8200-a8bfdf2801ac",
       "rows": [
        [
         "0",
         "1",
         "1955-06-10 00:00:00+00:00",
         "1991-04-30T00:00:00",
         "2013-04-30T00:00:00",
         "449",
         "2004-04-19 00:00:00+00:00",
         "2004",
         "49.0",
         "0.0"
        ],
        [
         "1",
         "1",
         "1955-06-10 00:00:00+00:00",
         "1991-04-30T00:00:00",
         "2013-04-30T00:00:00",
         "713",
         "2004-04-19 00:00:00+00:00",
         "2004",
         "49.0",
         "0.0"
        ],
        [
         "2",
         "1",
         "1955-06-10 00:00:00+00:00",
         "1991-04-30T00:00:00",
         "2013-04-30T00:00:00",
         "786",
         "2004-04-19 00:00:00+00:00",
         "2004",
         "49.0",
         "0.0"
        ],
        [
         "3",
         "1",
         "1955-06-10 00:00:00+00:00",
         "1991-04-30T00:00:00",
         "2013-04-30T00:00:00",
         "1357",
         "2004-04-19 00:00:00+00:00",
         "2004",
         "49.0",
         "0.0"
        ],
        [
         "4",
         "1",
         "1955-06-10 00:00:00+00:00",
         "1991-04-30T00:00:00",
         "2013-04-30T00:00:00",
         "5212",
         "2007-07-11 00:00:00+00:00",
         "2007",
         "52.0",
         "0.0"
        ]
       ],
       "shape": {
        "columns": 9,
        "rows": 5
       }
      },
      "text/html": [
       "<div>\n",
       "<style scoped>\n",
       "    .dataframe tbody tr th:only-of-type {\n",
       "        vertical-align: middle;\n",
       "    }\n",
       "\n",
       "    .dataframe tbody tr th {\n",
       "        vertical-align: top;\n",
       "    }\n",
       "\n",
       "    .dataframe thead th {\n",
       "        text-align: right;\n",
       "    }\n",
       "</style>\n",
       "<table border=\"1\" class=\"dataframe\">\n",
       "  <thead>\n",
       "    <tr style=\"text-align: right;\">\n",
       "      <th></th>\n",
       "      <th>patient_id</th>\n",
       "      <th>birth_date</th>\n",
       "      <th>first_visit</th>\n",
       "      <th>last_visit</th>\n",
       "      <th>procedure_code_x</th>\n",
       "      <th>procedure_date</th>\n",
       "      <th>procedure_year</th>\n",
       "      <th>age_at_filling</th>\n",
       "      <th>risk</th>\n",
       "    </tr>\n",
       "  </thead>\n",
       "  <tbody>\n",
       "    <tr>\n",
       "      <th>0</th>\n",
       "      <td>1</td>\n",
       "      <td>1955-06-10 00:00:00+00:00</td>\n",
       "      <td>1991-04-30T00:00:00</td>\n",
       "      <td>2013-04-30T00:00:00</td>\n",
       "      <td>449</td>\n",
       "      <td>2004-04-19 00:00:00+00:00</td>\n",
       "      <td>2004</td>\n",
       "      <td>49.0</td>\n",
       "      <td>0.0</td>\n",
       "    </tr>\n",
       "    <tr>\n",
       "      <th>1</th>\n",
       "      <td>1</td>\n",
       "      <td>1955-06-10 00:00:00+00:00</td>\n",
       "      <td>1991-04-30T00:00:00</td>\n",
       "      <td>2013-04-30T00:00:00</td>\n",
       "      <td>713</td>\n",
       "      <td>2004-04-19 00:00:00+00:00</td>\n",
       "      <td>2004</td>\n",
       "      <td>49.0</td>\n",
       "      <td>0.0</td>\n",
       "    </tr>\n",
       "    <tr>\n",
       "      <th>2</th>\n",
       "      <td>1</td>\n",
       "      <td>1955-06-10 00:00:00+00:00</td>\n",
       "      <td>1991-04-30T00:00:00</td>\n",
       "      <td>2013-04-30T00:00:00</td>\n",
       "      <td>786</td>\n",
       "      <td>2004-04-19 00:00:00+00:00</td>\n",
       "      <td>2004</td>\n",
       "      <td>49.0</td>\n",
       "      <td>0.0</td>\n",
       "    </tr>\n",
       "    <tr>\n",
       "      <th>3</th>\n",
       "      <td>1</td>\n",
       "      <td>1955-06-10 00:00:00+00:00</td>\n",
       "      <td>1991-04-30T00:00:00</td>\n",
       "      <td>2013-04-30T00:00:00</td>\n",
       "      <td>1357</td>\n",
       "      <td>2004-04-19 00:00:00+00:00</td>\n",
       "      <td>2004</td>\n",
       "      <td>49.0</td>\n",
       "      <td>0.0</td>\n",
       "    </tr>\n",
       "    <tr>\n",
       "      <th>4</th>\n",
       "      <td>1</td>\n",
       "      <td>1955-06-10 00:00:00+00:00</td>\n",
       "      <td>1991-04-30T00:00:00</td>\n",
       "      <td>2013-04-30T00:00:00</td>\n",
       "      <td>5212</td>\n",
       "      <td>2007-07-11 00:00:00+00:00</td>\n",
       "      <td>2007</td>\n",
       "      <td>52.0</td>\n",
       "      <td>0.0</td>\n",
       "    </tr>\n",
       "  </tbody>\n",
       "</table>\n",
       "</div>"
      ],
      "text/plain": [
       "   patient_id                 birth_date          first_visit  \\\n",
       "0           1  1955-06-10 00:00:00+00:00  1991-04-30T00:00:00   \n",
       "1           1  1955-06-10 00:00:00+00:00  1991-04-30T00:00:00   \n",
       "2           1  1955-06-10 00:00:00+00:00  1991-04-30T00:00:00   \n",
       "3           1  1955-06-10 00:00:00+00:00  1991-04-30T00:00:00   \n",
       "4           1  1955-06-10 00:00:00+00:00  1991-04-30T00:00:00   \n",
       "\n",
       "            last_visit  procedure_code_x             procedure_date  \\\n",
       "0  2013-04-30T00:00:00               449  2004-04-19 00:00:00+00:00   \n",
       "1  2013-04-30T00:00:00               713  2004-04-19 00:00:00+00:00   \n",
       "2  2013-04-30T00:00:00               786  2004-04-19 00:00:00+00:00   \n",
       "3  2013-04-30T00:00:00              1357  2004-04-19 00:00:00+00:00   \n",
       "4  2013-04-30T00:00:00              5212  2007-07-11 00:00:00+00:00   \n",
       "\n",
       "   procedure_year  age_at_filling  risk  \n",
       "0            2004            49.0   0.0  \n",
       "1            2004            49.0   0.0  \n",
       "2            2004            49.0   0.0  \n",
       "3            2004            49.0   0.0  \n",
       "4            2007            52.0   0.0  "
      ]
     },
     "execution_count": 40,
     "metadata": {},
     "output_type": "execute_result"
    }
   ],
   "source": [
    "df.head()"
   ]
  },
  {
   "cell_type": "code",
   "execution_count": 57,
   "metadata": {},
   "outputs": [],
   "source": [
    "# Get a txt doc of procedure_code with 0 risk level\n",
    "zero_risk_procedure_codes = []\n",
    "for i, r in enumerate(df['risk']):\n",
    "    if r == 0:\n",
    "        zero_risk_procedure_codes.append(df['procedure_code_y'][i])\n",
    "\n",
    "with open(\"zero_risk_procedure_codes.txt\", \"w\") as file:\n",
    "    for code in zero_risk_procedure_codes:\n",
    "        file.write(str(code) + \"\\n\")"
   ]
  },
  {
   "cell_type": "code",
   "execution_count": 58,
   "metadata": {},
   "outputs": [],
   "source": [
    "# Get a txt doc of procedure_code with 0 risk level\n",
    "non_zero_risk_procedure_codes = []\n",
    "for i, r in enumerate(df['risk']):\n",
    "    if r != 0:\n",
    "        non_zero_risk_procedure_codes.append(df['procedure_code_y'][i])\n",
    "\n",
    "with open(\"non_zero_risk_procedure_codes.txt\", \"w\") as file:\n",
    "    for code in non_zero_risk_procedure_codes:\n",
    "        file.write(str(code) + \"\\n\")"
   ]
  },
  {
   "cell_type": "code",
   "execution_count": 59,
   "metadata": {},
   "outputs": [],
   "source": [
    "# 4. Define a function to compute the final normalized risk for a single patient.\n",
    "def compute_patient_risk(patient_df):\n",
    "    # Determine the treatment timeline for the patient\n",
    "    min_year = patient_df['procedure_year'].min()\n",
    "    max_year = patient_df['procedure_year'].max()\n",
    "    normalized_risks = []\n",
    "    \n",
    "    # Slide the window year by year from the first to the last treatment year.\n",
    "    for current_year in range(min_year, max_year + 1):\n",
    "        start_window = current_year - 5\n",
    "        end_window = current_year + 2\n",
    "        # Filter treatments that fall within the current window.\n",
    "        window_df = patient_df[(patient_df['procedure_year'] >= start_window) & (patient_df['procedure_year'] <= end_window)]\n",
    "        risk_sum = window_df['risk'].sum()\n",
    "        # Normalize the risk sum to the 6-point scale.\n",
    "        normalized_risk = risk_sum / 6\n",
    "        normalized_risks.append(normalized_risk)\n",
    "    \n",
    "    # The final risk is the average of normalized risks from each window.\n",
    "    if normalized_risks:\n",
    "        final_risk = sum(normalized_risks) / len(normalized_risks)\n",
    "    else:\n",
    "        final_risk = 0\n",
    "    return final_risk"
   ]
  },
  {
   "cell_type": "code",
   "execution_count": 60,
   "metadata": {},
   "outputs": [
    {
     "name": "stdout",
     "output_type": "stream",
     "text": [
      "   patient_id  final_risk\n",
      "0           1   -2.422222\n",
      "1           2   -4.916667\n",
      "2           3   -3.648148\n",
      "3           4   -3.493827\n",
      "4           5   -2.121212\n"
     ]
    },
    {
     "name": "stderr",
     "output_type": "stream",
     "text": [
      "C:\\Users\\frank\\AppData\\Local\\Temp\\ipykernel_44432\\413853556.py:1: DeprecationWarning: DataFrameGroupBy.apply operated on the grouping columns. This behavior is deprecated, and in a future version of pandas the grouping columns will be excluded from the operation. Either pass `include_groups=False` to exclude the groupings or explicitly select the grouping columns after groupby to silence this warning.\n",
      "  patient_risks = df.groupby('patient_id').apply(compute_patient_risk)\n"
     ]
    }
   ],
   "source": [
    "patient_risks = df.groupby('patient_id').apply(compute_patient_risk)\n",
    "patient_risk_df = patient_risks.reset_index()\n",
    "patient_risk_df.columns = ['patient_id', 'final_risk']\n",
    "print(patient_risk_df.head())"
   ]
  },
  {
   "cell_type": "code",
   "execution_count": 61,
   "metadata": {},
   "outputs": [
    {
     "data": {
      "application/vnd.microsoft.datawrangler.viewer.v0+json": {
       "columns": [
        {
         "name": "index",
         "rawType": "int64",
         "type": "integer"
        },
        {
         "name": "patient_id",
         "rawType": "int64",
         "type": "integer"
        },
        {
         "name": "final_risk",
         "rawType": "float64",
         "type": "float"
        }
       ],
       "conversionMethod": "pd.DataFrame",
       "ref": "55d0ec2e-1d0f-43c7-ac6d-2e1e1fde478c",
       "rows": [
        [
         "0",
         "1",
         "-2.422222222222222"
        ],
        [
         "1",
         "2",
         "-4.916666666666667"
        ],
        [
         "2",
         "3",
         "-3.6481481481481475"
        ],
        [
         "3",
         "4",
         "-3.4938271604938262"
        ],
        [
         "4",
         "5",
         "-2.1212121212121215"
        ],
        [
         "5",
         "6",
         "-4.34375"
        ],
        [
         "6",
         "7",
         "-1.6999999999999997"
        ],
        [
         "7",
         "8",
         "-0.75"
        ],
        [
         "8",
         "9",
         "-1.5000000000000002"
        ],
        [
         "9",
         "10",
         "-1.3"
        ],
        [
         "10",
         "11",
         "-1.9833333333333336"
        ],
        [
         "11",
         "12",
         "-1.8148148148148147"
        ],
        [
         "12",
         "13",
         "-2.757575757575758"
        ],
        [
         "13",
         "14",
         "-2.0"
        ],
        [
         "14",
         "15",
         "-0.11594202898550723"
        ],
        [
         "15",
         "16",
         "-1.6568627450980389"
        ],
        [
         "16",
         "17",
         "-3.166666666666667"
        ],
        [
         "17",
         "18",
         "-4.555555555555556"
        ],
        [
         "18",
         "19",
         "-2.966666666666667"
        ],
        [
         "19",
         "20",
         "-0.9333333333333332"
        ],
        [
         "20",
         "21",
         "-2.1590909090909096"
        ],
        [
         "21",
         "22",
         "-3.500000000000001"
        ],
        [
         "22",
         "23",
         "-2.796296296296296"
        ],
        [
         "23",
         "24",
         "-3.2261904761904767"
        ],
        [
         "24",
         "26",
         "-0.1"
        ],
        [
         "25",
         "27",
         "-0.7000000000000001"
        ],
        [
         "26",
         "28",
         "-0.3333333333333333"
        ],
        [
         "27",
         "29",
         "-0.8333333333333331"
        ],
        [
         "28",
         "30",
         "-1.0000000000000002"
        ],
        [
         "29",
         "31",
         "-1.3333333333333333"
        ],
        [
         "30",
         "32",
         "-7.008333333333333"
        ],
        [
         "31",
         "33",
         "-4.470588235294118"
        ],
        [
         "32",
         "34",
         "-0.8571428571428573"
        ],
        [
         "33",
         "35",
         "-0.4848484848484849"
        ],
        [
         "34",
         "36",
         "-1.0777777777777777"
        ],
        [
         "35",
         "38",
         "-0.8055555555555555"
        ],
        [
         "36",
         "39",
         "-1.9583333333333335"
        ],
        [
         "37",
         "41",
         "-0.5"
        ],
        [
         "38",
         "44",
         "-0.49999999999999994"
        ],
        [
         "39",
         "45",
         "-1.166666666666667"
        ],
        [
         "40",
         "46",
         "0.0"
        ],
        [
         "41",
         "47",
         "-0.8750000000000001"
        ],
        [
         "42",
         "48",
         "-0.7857142857142857"
        ],
        [
         "43",
         "50",
         "-0.5"
        ],
        [
         "44",
         "51",
         "-5.453703703703703"
        ],
        [
         "45",
         "52",
         "-0.3333333333333333"
        ],
        [
         "46",
         "56",
         "0.0"
        ],
        [
         "47",
         "57",
         "-6.03921568627451"
        ],
        [
         "48",
         "58",
         "-3.2916666666666656"
        ],
        [
         "49",
         "59",
         "-2.1833333333333327"
        ]
       ],
       "shape": {
        "columns": 2,
        "rows": 10856
       }
      },
      "text/html": [
       "<div>\n",
       "<style scoped>\n",
       "    .dataframe tbody tr th:only-of-type {\n",
       "        vertical-align: middle;\n",
       "    }\n",
       "\n",
       "    .dataframe tbody tr th {\n",
       "        vertical-align: top;\n",
       "    }\n",
       "\n",
       "    .dataframe thead th {\n",
       "        text-align: right;\n",
       "    }\n",
       "</style>\n",
       "<table border=\"1\" class=\"dataframe\">\n",
       "  <thead>\n",
       "    <tr style=\"text-align: right;\">\n",
       "      <th></th>\n",
       "      <th>patient_id</th>\n",
       "      <th>final_risk</th>\n",
       "    </tr>\n",
       "  </thead>\n",
       "  <tbody>\n",
       "    <tr>\n",
       "      <th>0</th>\n",
       "      <td>1</td>\n",
       "      <td>-2.422222</td>\n",
       "    </tr>\n",
       "    <tr>\n",
       "      <th>1</th>\n",
       "      <td>2</td>\n",
       "      <td>-4.916667</td>\n",
       "    </tr>\n",
       "    <tr>\n",
       "      <th>2</th>\n",
       "      <td>3</td>\n",
       "      <td>-3.648148</td>\n",
       "    </tr>\n",
       "    <tr>\n",
       "      <th>3</th>\n",
       "      <td>4</td>\n",
       "      <td>-3.493827</td>\n",
       "    </tr>\n",
       "    <tr>\n",
       "      <th>4</th>\n",
       "      <td>5</td>\n",
       "      <td>-2.121212</td>\n",
       "    </tr>\n",
       "    <tr>\n",
       "      <th>...</th>\n",
       "      <td>...</td>\n",
       "      <td>...</td>\n",
       "    </tr>\n",
       "    <tr>\n",
       "      <th>10851</th>\n",
       "      <td>13580</td>\n",
       "      <td>-1.694444</td>\n",
       "    </tr>\n",
       "    <tr>\n",
       "      <th>10852</th>\n",
       "      <td>13583</td>\n",
       "      <td>0.000000</td>\n",
       "    </tr>\n",
       "    <tr>\n",
       "      <th>10853</th>\n",
       "      <td>13584</td>\n",
       "      <td>-1.000000</td>\n",
       "    </tr>\n",
       "    <tr>\n",
       "      <th>10854</th>\n",
       "      <td>13586</td>\n",
       "      <td>-0.425926</td>\n",
       "    </tr>\n",
       "    <tr>\n",
       "      <th>10855</th>\n",
       "      <td>13589</td>\n",
       "      <td>-3.680556</td>\n",
       "    </tr>\n",
       "  </tbody>\n",
       "</table>\n",
       "<p>10856 rows × 2 columns</p>\n",
       "</div>"
      ],
      "text/plain": [
       "       patient_id  final_risk\n",
       "0               1   -2.422222\n",
       "1               2   -4.916667\n",
       "2               3   -3.648148\n",
       "3               4   -3.493827\n",
       "4               5   -2.121212\n",
       "...           ...         ...\n",
       "10851       13580   -1.694444\n",
       "10852       13583    0.000000\n",
       "10853       13584   -1.000000\n",
       "10854       13586   -0.425926\n",
       "10855       13589   -3.680556\n",
       "\n",
       "[10856 rows x 2 columns]"
      ]
     },
     "execution_count": 61,
     "metadata": {},
     "output_type": "execute_result"
    }
   ],
   "source": [
    "patient_risk_df"
   ]
  },
  {
   "cell_type": "code",
   "execution_count": 76,
   "metadata": {},
   "outputs": [
    {
     "data": {
      "image/png": "[encoded data removed]",
      "text/plain": [
       "<Figure size 800x500 with 1 Axes>"
      ]
     },
     "metadata": {},
     "output_type": "display_data"
    }
   ],
   "source": [
    "import matplotlib.pyplot as plt\n",
    "\n",
    "# Plot a histogram of final risk\n",
    "plt.figure(figsize=(8, 5))\n",
    "plt.hist(patient_risk_df['final_risk'], bins=15, edgecolor='black')\n",
    "plt.xlabel('Final Risk')\n",
    "plt.ylabel('Number of Patients')\n",
    "plt.title('Distribution of Final Risk Among Patients')\n",
    "plt.show()"
   ]
  },
  {
   "cell_type": "code",
   "execution_count": null,
   "metadata": {},
   "outputs": [],
   "source": [
    "# High_risk_patient_id = []\n",
    "# for i, r in enumerate(patient_risk_df['final_risk']):\n",
    "#     if r >= 4:\n",
    "#         High_risk_patient_id.append(patient_risk_df['patient_id'][i])\n",
    "# # with open(\"High_risk_patient_id.txt\", \"w\") as file:\n",
    "# #     for code in High_risk_patient_id:\n",
    "# #         file.write(str(code) + \"\\n\")\n",
    "\n",
    "# Medium_risk_patient_id = []\n",
    "# for i, r in enumerate(patient_risk_df['final_risk']):\n",
    "#     if r <= 4 and r > 1:\n",
    "#         Medium_risk_patient_id.append(patient_risk_df['patient_id'][i])\n",
    "# # with open(\"Medium_risk_patient_id.txt\", \"w\") as file:\n",
    "# #     for code in Medium_risk_patient_id:\n",
    "# #         file.write(str(code) + \"\\n\")\n",
    "\n",
    "# Low_risk_patient_id = []\n",
    "# for i, r in enumerate(patient_risk_df['final_risk']):\n",
    "#     if r <= 1:\n",
    "#         Low_risk_patient_id.append(patient_risk_df['patient_id'][i])\n",
    "# # with open(\"Low_risk_patient_id.txt\", \"w\") as file:\n",
    "# #     for code in Low_risk_patient_id:\n",
    "# #         file.write(str(code) + \"\\n\")"
   ]
  },
  {
   "cell_type": "code",
   "execution_count": null,
   "metadata": {},
   "outputs": [
    {
     "name": "stderr",
     "output_type": "stream",
     "text": [
      "C:\\Users\\frank\\AppData\\Local\\Temp\\ipykernel_44432\\3947847094.py:19: FutureWarning: \n",
      "\n",
      "Passing `palette` without assigning `hue` is deprecated and will be removed in v0.14.0. Assign the `x` variable to `hue` and set `legend=False` for the same effect.\n",
      "\n",
      "  sns.countplot(data=patient_risk_df, x='risk_category',\n"
     ]
    },
    {
     "data": {
      "image/png": "[encoded data removed]",
      "text/plain": [
       "<Figure size 600x400 with 1 Axes>"
      ]
     },
     "metadata": {},
     "output_type": "display_data"
    },
    {
     "data": {
      "image/png": "[encoded data removed]",
      "text/plain": [
       "<Figure size 600x600 with 1 Axes>"
      ]
     },
     "metadata": {},
     "output_type": "display_data"
    }
   ],
   "source": [
    "import pandas as pd\n",
    "import seaborn as sns\n",
    "import matplotlib.pyplot as plt\n",
    "\n",
    "def categorize_risk(r):\n",
    "    if r > 1:\n",
    "        return 'High'\n",
    "    elif r > 0:\n",
    "        return 'Medium'\n",
    "    else:\n",
    "        return 'Low'\n",
    "\n",
    "patient_risk_df['risk_category'] = patient_risk_df['final_risk'].apply(categorize_risk)\n",
    "\n",
    "# -------------------------------------\n",
    "# Bar Chart of Risk Categories\n",
    "# -------------------------------------\n",
    "plt.figure(figsize=(6, 4))\n",
    "sns.countplot(data=patient_risk_df, x='risk_category', \n",
    "              order=['Low', 'Medium', 'High'], \n",
    "              palette=['green','gold','red'])\n",
    "plt.title('Number of Patients by Risk Category')\n",
    "plt.xlabel('Risk Category')\n",
    "plt.ylabel('Count of Patients')\n",
    "plt.show()\n",
    "\n",
    "# -------------------------------------\n",
    "# Pie Chart of Risk Categories\n",
    "# -------------------------------------\n",
    "risk_counts = patient_risk_df['risk_category'].value_counts()\n",
    "\n",
    "plt.figure(figsize=(6,6))\n",
    "plt.pie(risk_counts, \n",
    "        labels=risk_counts.index, \n",
    "        autopct='%1.1f%%', \n",
    "        startangle=140, \n",
    "        colors=['green','gold','red'])\n",
    "plt.title('Distribution of Patients by Risk Category')\n",
    "plt.show()"
   ]
  }
 ],
 "metadata": {
  "kernelspec": {
   "display_name": "Python 3",
   "language": "python",
   "name": "python3"
  },
  "language_info": {
   "codemirror_mode": {
    "name": "ipython",
    "version": 3
   },
   "file_extension": ".py",
   "mimetype": "text/x-python",
   "name": "python",
   "nbconvert_exporter": "python",
   "pygments_lexer": "ipython3",
   "version": "3.12.7"
  }
 },
 "nbformat": 4,
 "nbformat_minor": 2
}
