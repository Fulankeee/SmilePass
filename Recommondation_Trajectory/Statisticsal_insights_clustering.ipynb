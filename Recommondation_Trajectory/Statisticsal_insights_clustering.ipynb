{
 "cells": [
  {
   "cell_type": "code",
   "execution_count": 10,
   "id": "5214d1b0",
   "metadata": {},
   "outputs": [],
   "source": [
    "import matplotlib.pyplot as plt\n",
    "import pandas as pd\n",
    "import numpy as np\n",
    "import sys\n",
    "sys.path.append(r'C:\\Frank\\UoT 2024-2025\\MIE8888 Project\\M18\\RUIWU') \n",
    "from helper_functions import * # Import Ruiwu's helper functions for data cleaning, slicing and aggregating"
   ]
  },
  {
   "cell_type": "markdown",
   "id": "2f0fcb7a",
   "metadata": {},
   "source": [
    "#  Loading Data"
   ]
  },
  {
   "cell_type": "code",
   "execution_count": 4,
   "id": "e05e1af4",
   "metadata": {},
   "outputs": [
    {
     "name": "stderr",
     "output_type": "stream",
     "text": [
      "C:\\Users\\frank\\AppData\\Local\\Temp\\ipykernel_27740\\2978273318.py:12: DtypeWarning: Columns (1,4,10,16,52,85,86,91) have mixed types. Specify dtype option on import or set low_memory=False.\n",
      "  df = pd.read_csv(full_dataset, encoding=\"Windows-1252\")\n"
     ]
    }
   ],
   "source": [
    "# Read Current Data\n",
    "full_dataset = r\"C:\\Frank\\UoT 2024-2025\\MIE8888 Project\\full_dataset_2.11.csv\"\n",
    "svd_data = r\"C:\\Frank\\UoT 2024-2025\\MIE8888 Project\\df_svd.csv\"\n",
    "v1_data = r\"C:\\Frank\\UoT 2024-2025\\MIE8888 Project\\M22\\df_v1.csv\"\n",
    "v3_data = r\"C:\\Frank\\UoT 2024-2025\\MIE8888 Project\\M22\\df_v3.csv\"\n",
    "v1v3_data = r\"C:\\Frank\\UoT 2024-2025\\MIE8888 Project\\M22\\df_v1_v3.csv\"\n",
    "v1_svd = r\"C:\\Frank\\UoT 2024-2025\\MIE8888 Project\\M22\\df_svd_v1.csv\"\n",
    "v3_svd = r\"C:\\Frank\\UoT 2024-2025\\MIE8888 Project\\M22\\df_svd_v3.csv\"\n",
    "v1v3_svd = r\"C:\\Frank\\UoT 2024-2025\\MIE8888 Project\\M22\\df_svd_v1_v3.csv\"\n",
    "\n",
    "\n",
    "df = pd.read_csv(full_dataset, encoding=\"Windows-1252\")\n",
    "df_v1 = pd.read_csv(v1_data, encoding=\"Windows-1252\")\n",
    "df_v3 = pd.read_csv(v3_data, encoding=\"Windows-1252\")\n",
    "df_v1_v3 = pd.read_csv(v1v3_data, encoding=\"Windows-1252\")\n",
    "df_svd = pd.read_csv(svd_data, encoding=\"Windows-1252\")\n",
    "df_v1_svd = pd.read_csv(v1_svd, encoding=\"Windows-1252\")\n",
    "df_v3_svd = pd.read_csv(v3_svd, encoding=\"Windows-1252\")\n",
    "df_v1_v3_svd = pd.read_csv(v1v3_svd, encoding=\"Windows-1252\")"
   ]
  },
  {
   "cell_type": "markdown",
   "id": "7364f306",
   "metadata": {},
   "source": [
    "# Apply Clustering"
   ]
  },
  {
   "cell_type": "code",
   "execution_count": 11,
   "id": "3be7c57e",
   "metadata": {},
   "outputs": [
    {
     "ename": "NameError",
     "evalue": "name 'cluster_patients_kmeans' is not defined",
     "output_type": "error",
     "traceback": [
      "\u001b[1;31m---------------------------------------------------------------------------\u001b[0m",
      "\u001b[1;31mNameError\u001b[0m                                 Traceback (most recent call last)",
      "Cell \u001b[1;32mIn[11], line 1\u001b[0m\n\u001b[1;32m----> 1\u001b[0m df_sv_kmeans, kmeans, scaler \u001b[38;5;241m=\u001b[39m \u001b[43mcluster_patients_kmeans\u001b[49m(df_svd_v1_v3, n_clusters\u001b[38;5;241m=\u001b[39m\u001b[38;5;241m4\u001b[39m)\n\u001b[0;32m      2\u001b[0m cluster_map_kmeans \u001b[38;5;241m=\u001b[39m df_sv_kmeans[[\u001b[38;5;124m'\u001b[39m\u001b[38;5;124mpatient_id\u001b[39m\u001b[38;5;124m'\u001b[39m, \u001b[38;5;124m'\u001b[39m\u001b[38;5;124mKmeans_cluster\u001b[39m\u001b[38;5;124m'\u001b[39m]]\n\u001b[0;32m      3\u001b[0m cluster_map_kmeans\n",
      "\u001b[1;31mNameError\u001b[0m: name 'cluster_patients_kmeans' is not defined"
     ]
    }
   ],
   "source": [
    "df_sv_kmeans, kmeans, scaler = cluster_patients_kmeans(df_svd_v1_v3, n_clusters=4)\n",
    "cluster_map_kmeans = df_sv_kmeans[['patient_id', 'Kmeans_cluster']]\n",
    "cluster_map_kmeans"
   ]
  }
 ],
 "metadata": {
  "kernelspec": {
   "display_name": "Python 3",
   "language": "python",
   "name": "python3"
  },
  "language_info": {
   "codemirror_mode": {
    "name": "ipython",
    "version": 3
   },
   "file_extension": ".py",
   "mimetype": "text/x-python",
   "name": "python",
   "nbconvert_exporter": "python",
   "pygments_lexer": "ipython3",
   "version": "3.12.7"
  }
 },
 "nbformat": 4,
 "nbformat_minor": 5
}
