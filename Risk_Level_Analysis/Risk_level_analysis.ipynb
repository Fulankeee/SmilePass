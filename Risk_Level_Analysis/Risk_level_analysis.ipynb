{
 "cells": [
  {
   "cell_type": "code",
   "execution_count": 1,
   "metadata": {},
   "outputs": [],
   "source": [
    "import pandas as pd"
   ]
  },
  {
   "cell_type": "code",
   "execution_count": 2,
   "metadata": {},
   "outputs": [],
   "source": [
    "# 1. Load the risk mapping from the text file\n",
    "risk_map = {}\n",
    "with open(r\"C:\\Frank\\UoT 2024-2025\\MIE8888 Project\\M13\\risk_levels_RUIWU.txt\", 'r') as f:\n",
    "    for line in f:\n",
    "        line = line.strip()\n",
    "        # Skip headers and blank or separator lines\n",
    "        if not line or line.startswith(\"procedure_code\") or line.startswith(\"#####\"):\n",
    "            continue\n",
    "        parts = line.split(',')\n",
    "        if len(parts) == 2:\n",
    "            code = parts[0].strip()\n",
    "            try:\n",
    "                risk = float(parts[1].strip())\n",
    "            except ValueError:\n",
    "                risk = 0.0\n",
    "            risk_map[code] = risk"
   ]
  },
  {
   "cell_type": "code",
   "execution_count": null,
   "metadata": {},
   "outputs": [
    {
     "data": {
      "text/plain": [
       "{'11117': -2.0,\n",
       " '11119': -3.0,\n",
       " '1205.0': 6.0,\n",
       " '11115': -2.0,\n",
       " '11116': -2.0,\n",
       " '12111': -1.0,\n",
       " '12112': -1.0,\n",
       " '12113': -2.0,\n",
       " '13211': -2.0,\n",
       " '13212': -3.0,\n",
       " '13401': -3.0,\n",
       " '13409': -2.0,\n",
       " '13411': -2.0,\n",
       " '13419': -2.0,\n",
       " '13601': 2.0,\n",
       " '13609': 3.0,\n",
       " '14101': 1.0,\n",
       " '14102': 1.0,\n",
       " '14502': 0.0,\n",
       " '14611': 2.0,\n",
       " '14612': 2.0,\n",
       " '14621': 1.0,\n",
       " '15101': 4.0,\n",
       " '15201': 3.0,\n",
       " '15602': 2.0,\n",
       " '15604': 2.0,\n",
       " '16101': 0.0,\n",
       " '16102': 1.0,\n",
       " '16201': 1.0,\n",
       " '16202': 2.0,\n",
       " '16401': 1.0,\n",
       " '16511': 3.0,\n",
       " '21215': 3.0,\n",
       " '21214': 2.0,\n",
       " '21213': 2.0,\n",
       " '21212': 1.0,\n",
       " '21211': 0.0,\n",
       " '21221': 1.0,\n",
       " '21301.0': 5.0,\n",
       " '21302.0': 5.0,\n",
       " '21401.0': 4.0,\n",
       " '21402.0': 4.0,\n",
       " '21403.0': 4.0,\n",
       " '21404.0': 4.0,\n",
       " '23101.0': 1.0,\n",
       " '23102.0': 2.0,\n",
       " '23111.0': 3.0,\n",
       " '23311': -2.0,\n",
       " '23312': -3.0,\n",
       " '23313': -3.0,\n",
       " '23314': -3.0,\n",
       " '42107': 3.0,\n",
       " '42108': 3.0,\n",
       " '42110': 4.0,\n",
       " '42209': 5.0,\n",
       " '42210': 6.0,\n",
       " '42211': 5.0,\n",
       " '42212': 6.0,\n",
       " '42213': 6.0,\n",
       " '42214': 7.0,\n",
       " '42215': 8.0,\n",
       " '42216': 8.0,\n",
       " '25781': -3.0,\n",
       " '25782': -3.0,\n",
       " '26102': -2.0,\n",
       " '25764': 0.0,\n",
       " '25761': 0.0,\n",
       " '27113': -2.0,\n",
       " '21400': 2.0,\n",
       " '27530': 4.0,\n",
       " '29400': 3.0,\n",
       " '21100': 2.0,\n",
       " '21200': 2.0,\n",
       " '21300': 3.0,\n",
       " '21600': 2.0,\n",
       " '21700': 2.0,\n",
       " '27500': 4.0,\n",
       " '27510': 4.0,\n",
       " '27520': 5.0,\n",
       " '29200': 2.0,\n",
       " '29300': 2.0,\n",
       " '32221': 2.0,\n",
       " '32222': 3.0,\n",
       " '32231': 1.0,\n",
       " '32232': 2.0,\n",
       " '32311': 3.0,\n",
       " '32312': 4.0,\n",
       " '32313': 5.0,\n",
       " '32314': 6.0,\n",
       " '33111': 4.0,\n",
       " '33112': 5.0,\n",
       " '33113': 5.0,\n",
       " '33114': 6.0,\n",
       " '29343.0': 2.0,\n",
       " '29501.0': -2.0,\n",
       " '33115': 2.0,\n",
       " '33121': -1.0,\n",
       " '33122': 4.0,\n",
       " '33124': 4.0,\n",
       " '33125': 3.0,\n",
       " '33131': 0.0,\n",
       " '33133': 5.0,\n",
       " '33134': 5.0,\n",
       " '33135': 6.0,\n",
       " '33145': 6.0,\n",
       " '33403': -2.0,\n",
       " '34411': 1.0,\n",
       " '34412': 2.0,\n",
       " '34422': 3.0,\n",
       " '34423': 3.0,\n",
       " '39201': 1.0,\n",
       " '39202': 2.0,\n",
       " '39313': 3.0,\n",
       " '41221.0': -1.0,\n",
       " '41301.0': 0.0,\n",
       " '41302.0': 1.0,\n",
       " '42111.0': 4.0,\n",
       " '42201.0': 3.0,\n",
       " '42311.0': 2.0,\n",
       " '42331.0': 2.0,\n",
       " '42339.0': 3.0,\n",
       " '42411.0': 5.0,\n",
       " '42421.0': -3.0,\n",
       " '42431.0': 2.0,\n",
       " '42531.0': -3.0,\n",
       " '42551.0': 1.0,\n",
       " '42621.0': 4.0,\n",
       " '42702.0': 3.0,\n",
       " '42831.0': 5.0,\n",
       " '42832.0': 5.0,\n",
       " '42834.0': 6.0,\n",
       " '43111.0': -3.0,\n",
       " '43211.0': -3.0,\n",
       " '43231.0': -3.0,\n",
       " '43241.0': -3.0,\n",
       " '43421.0': 3.0,\n",
       " '43427.0': 2.0,\n",
       " '43511.0': -1.0,\n",
       " '43521.0': -1.0,\n",
       " '43529.0': -1.0,\n",
       " '49101.0': 2.0,\n",
       " '51101': 2.0,\n",
       " '51102': 2.0,\n",
       " '51301': 4.0,\n",
       " '51911': 5.0,\n",
       " '51921': 6.0,\n",
       " '51922': 5.0,\n",
       " '52311': 3.0,\n",
       " '52712': 4.0,\n",
       " '53101': 3.0,\n",
       " '53102': 3.0,\n",
       " '53201.0': -3.0,\n",
       " '53202.0': -2.0,\n",
       " '53211.0': 0.0,\n",
       " '53212.0': -1.0,\n",
       " '53402.0': 2.0,\n",
       " '53501.0': 1.0,\n",
       " '54201.0': -3.0,\n",
       " '55101.0': 0.0,\n",
       " '55201.0': 4.0,\n",
       " '55302.0': 3.0,\n",
       " '55401.0': 6.0,\n",
       " '55402.0': 6.0,\n",
       " '57120': 4.0,\n",
       " '56231': 4.0,\n",
       " '56241': 4.0,\n",
       " '56242': 4.0,\n",
       " '66303': 2.0,\n",
       " '67121': 1.0,\n",
       " '67201': 4.0,\n",
       " '67205': 5.0,\n",
       " '67211': 3.0,\n",
       " '67215': 4.0,\n",
       " '67217': 5.0,\n",
       " '67221': 3.0,\n",
       " '67301': 3.0,\n",
       " '67331': 4.0,\n",
       " '67341': 4.0,\n",
       " '69701': 5.0,\n",
       " '69702': -3.0,\n",
       " '69822': -1.0,\n",
       " '71101': -1.0,\n",
       " '71109': -2.0,\n",
       " '71201': 3.0,\n",
       " '71209': 2.0,\n",
       " '72111': 3.0,\n",
       " '72211': 4.0,\n",
       " '72229': 3.0,\n",
       " '72321': 5.0,\n",
       " '72329': 4.0,\n",
       " '72331': 6.0,\n",
       " '72421.0': 3.0,\n",
       " '73111.0': 4.0,\n",
       " '73112.0': 3.0,\n",
       " '73121.0': 5.0,\n",
       " '73122.0': 6.0,\n",
       " '73141.0': 5.0,\n",
       " '73142.0': 5.0,\n",
       " '73161.0': 4.0,\n",
       " '73162.0': 4.0,\n",
       " '79931.0': 4.0,\n",
       " '79932.0': 4.0,\n",
       " '79933.0': 5.0,\n",
       " '79934.0': 3.0,\n",
       " '79935.0': 3.0,\n",
       " '79951.0': 2.0,\n",
       " '79952.0': 2.0,\n",
       " '81111.0': 0.0,\n",
       " '81121.0': 0.0,\n",
       " '81151.0': 0.0,\n",
       " '83101.0': 0.0,\n",
       " '83102.0': 0.0,\n",
       " '83201.0': 0.0,\n",
       " '83202.0': 0.0,\n",
       " '92412.0': -3.0,\n",
       " '92413.0': 0.0,\n",
       " '92414.0': 1.0,\n",
       " '92415.0': 2.0,\n",
       " '92416.0': 3.0,\n",
       " '92417.0': 4.0,\n",
       " '92418.0': 5.0,\n",
       " '92423.0': -2.0,\n",
       " '92424.0': 0.0,\n",
       " '92425.0': 1.0,\n",
       " '92426.0': 2.0,\n",
       " '92427.0': 3.0,\n",
       " '92428.0': 4.0,\n",
       " '92446.0': 2.0,\n",
       " '92448.0': 5.0,\n",
       " '93112.0': -3.0,\n",
       " '93121.0': -2.0,\n",
       " '93122.0': -1.0,\n",
       " '93331.0': 0.0,\n",
       " '99111.0': 2.0,\n",
       " '97112.0': 1.0,\n",
       " '97113.0': 1.0,\n",
       " '97119.0': 1.0,\n",
       " '97121.0': 0.0,\n",
       " '97122.0': 0.0,\n",
       " '97123.0': 0.0,\n",
       " '97133.0': 1.0,\n",
       " '99333.0': 2.0,\n",
       " '99555.0': 0.0}"
      ]
     },
     "execution_count": 3,
     "metadata": {},
     "output_type": "execute_result"
    }
   ],
   "source": [
    "risk_map"
   ]
  },
  {
   "cell_type": "code",
   "execution_count": 4,
   "metadata": {},
   "outputs": [],
   "source": [
    "# 2. Load the full patient data from CSV\n",
    "# df = pd.read_csv(r\"C:\\Frank\\UoT 2024-2025\\MIE8888 Project\\Data\\Complete Data\\21_treatements_backup_joined_patients_procedure_na_removed.csv\")\n",
    "df = pd.read_csv(r\"C:\\Frank\\UoT 2024-2025\\MIE8888 Project\\Data\\Complete Data\\Mytestdataset.csv\")\n",
    "df['procedure_year'] = pd.to_datetime(df['procedure_date']).dt.year\n",
    "df['age_at_filling'] = df['procedure_year'] - pd.to_datetime(df['birth_date']).dt.year"
   ]
  },
  {
   "cell_type": "code",
   "execution_count": 5,
   "metadata": {},
   "outputs": [],
   "source": [
    "# 3. Map each treatment's procedure code to its risk value.\n",
    "df['risk'] = df['procedure_code_y'].astype(str).map(risk_map)\n",
    "# fill missing risk values with 0 (if any procedure code is not found in risk_map).\n",
    "df['risk'] = df['risk'].fillna(0)"
   ]
  },
  {
   "cell_type": "code",
   "execution_count": 6,
   "metadata": {},
   "outputs": [
    {
     "data": {
      "application/vnd.microsoft.datawrangler.viewer.v0+json": {
       "columns": [
        {
         "name": "index",
         "rawType": "int64",
         "type": "integer"
        },
        {
         "name": "patient_id",
         "rawType": "int64",
         "type": "integer"
        },
        {
         "name": "birth_date",
         "rawType": "object",
         "type": "string"
        },
        {
         "name": "first_visit",
         "rawType": "object",
         "type": "string"
        },
        {
         "name": "last_visit",
         "rawType": "object",
         "type": "string"
        },
        {
         "name": "procedure_code_y",
         "rawType": "int64",
         "type": "integer"
        },
        {
         "name": "procedure_date",
         "rawType": "object",
         "type": "string"
        },
        {
         "name": "procedure_year",
         "rawType": "int32",
         "type": "integer"
        },
        {
         "name": "age_at_filling",
         "rawType": "float64",
         "type": "float"
        },
        {
         "name": "risk",
         "rawType": "float64",
         "type": "float"
        }
       ],
       "conversionMethod": "pd.DataFrame",
       "ref": "29a77531-2057-4853-8a07-794d899acd9d",
       "rows": [
        [
         "0",
         "1",
         "1955-06-10 00:00:00+00:00",
         "1991-04-30T00:00:00",
         "2013-04-30T00:00:00",
         "1202",
         "2004-04-19 00:00:00+00:00",
         "2004",
         "49.0",
         "0.0"
        ],
        [
         "1",
         "1",
         "1955-06-10 00:00:00+00:00",
         "1991-04-30T00:00:00",
         "2013-04-30T00:00:00",
         "11101",
         "2004-04-19 00:00:00+00:00",
         "2004",
         "49.0",
         "0.0"
        ],
        [
         "2",
         "1",
         "1955-06-10 00:00:00+00:00",
         "1991-04-30T00:00:00",
         "2013-04-30T00:00:00",
         "11111",
         "2004-04-19 00:00:00+00:00",
         "2004",
         "49.0",
         "0.0"
        ],
        [
         "3",
         "1",
         "1955-06-10 00:00:00+00:00",
         "1991-04-30T00:00:00",
         "2013-04-30T00:00:00",
         "12101",
         "2004-04-19 00:00:00+00:00",
         "2004",
         "49.0",
         "0.0"
        ],
        [
         "4",
         "1",
         "1955-06-10 00:00:00+00:00",
         "1991-04-30T00:00:00",
         "2013-04-30T00:00:00",
         "42311",
         "2007-07-11 00:00:00+00:00",
         "2007",
         "52.0",
         "0.0"
        ]
       ],
       "shape": {
        "columns": 9,
        "rows": 5
       }
      },
      "text/html": [
       "<div>\n",
       "<style scoped>\n",
       "    .dataframe tbody tr th:only-of-type {\n",
       "        vertical-align: middle;\n",
       "    }\n",
       "\n",
       "    .dataframe tbody tr th {\n",
       "        vertical-align: top;\n",
       "    }\n",
       "\n",
       "    .dataframe thead th {\n",
       "        text-align: right;\n",
       "    }\n",
       "</style>\n",
       "<table border=\"1\" class=\"dataframe\">\n",
       "  <thead>\n",
       "    <tr style=\"text-align: right;\">\n",
       "      <th></th>\n",
       "      <th>patient_id</th>\n",
       "      <th>birth_date</th>\n",
       "      <th>first_visit</th>\n",
       "      <th>last_visit</th>\n",
       "      <th>procedure_code_y</th>\n",
       "      <th>procedure_date</th>\n",
       "      <th>procedure_year</th>\n",
       "      <th>age_at_filling</th>\n",
       "      <th>risk</th>\n",
       "    </tr>\n",
       "  </thead>\n",
       "  <tbody>\n",
       "    <tr>\n",
       "      <th>0</th>\n",
       "      <td>1</td>\n",
       "      <td>1955-06-10 00:00:00+00:00</td>\n",
       "      <td>1991-04-30T00:00:00</td>\n",
       "      <td>2013-04-30T00:00:00</td>\n",
       "      <td>1202</td>\n",
       "      <td>2004-04-19 00:00:00+00:00</td>\n",
       "      <td>2004</td>\n",
       "      <td>49.0</td>\n",
       "      <td>0.0</td>\n",
       "    </tr>\n",
       "    <tr>\n",
       "      <th>1</th>\n",
       "      <td>1</td>\n",
       "      <td>1955-06-10 00:00:00+00:00</td>\n",
       "      <td>1991-04-30T00:00:00</td>\n",
       "      <td>2013-04-30T00:00:00</td>\n",
       "      <td>11101</td>\n",
       "      <td>2004-04-19 00:00:00+00:00</td>\n",
       "      <td>2004</td>\n",
       "      <td>49.0</td>\n",
       "      <td>0.0</td>\n",
       "    </tr>\n",
       "    <tr>\n",
       "      <th>2</th>\n",
       "      <td>1</td>\n",
       "      <td>1955-06-10 00:00:00+00:00</td>\n",
       "      <td>1991-04-30T00:00:00</td>\n",
       "      <td>2013-04-30T00:00:00</td>\n",
       "      <td>11111</td>\n",
       "      <td>2004-04-19 00:00:00+00:00</td>\n",
       "      <td>2004</td>\n",
       "      <td>49.0</td>\n",
       "      <td>0.0</td>\n",
       "    </tr>\n",
       "    <tr>\n",
       "      <th>3</th>\n",
       "      <td>1</td>\n",
       "      <td>1955-06-10 00:00:00+00:00</td>\n",
       "      <td>1991-04-30T00:00:00</td>\n",
       "      <td>2013-04-30T00:00:00</td>\n",
       "      <td>12101</td>\n",
       "      <td>2004-04-19 00:00:00+00:00</td>\n",
       "      <td>2004</td>\n",
       "      <td>49.0</td>\n",
       "      <td>0.0</td>\n",
       "    </tr>\n",
       "    <tr>\n",
       "      <th>4</th>\n",
       "      <td>1</td>\n",
       "      <td>1955-06-10 00:00:00+00:00</td>\n",
       "      <td>1991-04-30T00:00:00</td>\n",
       "      <td>2013-04-30T00:00:00</td>\n",
       "      <td>42311</td>\n",
       "      <td>2007-07-11 00:00:00+00:00</td>\n",
       "      <td>2007</td>\n",
       "      <td>52.0</td>\n",
       "      <td>0.0</td>\n",
       "    </tr>\n",
       "  </tbody>\n",
       "</table>\n",
       "</div>"
      ],
      "text/plain": [
       "   patient_id                 birth_date          first_visit  \\\n",
       "0           1  1955-06-10 00:00:00+00:00  1991-04-30T00:00:00   \n",
       "1           1  1955-06-10 00:00:00+00:00  1991-04-30T00:00:00   \n",
       "2           1  1955-06-10 00:00:00+00:00  1991-04-30T00:00:00   \n",
       "3           1  1955-06-10 00:00:00+00:00  1991-04-30T00:00:00   \n",
       "4           1  1955-06-10 00:00:00+00:00  1991-04-30T00:00:00   \n",
       "\n",
       "            last_visit  procedure_code_y             procedure_date  \\\n",
       "0  2013-04-30T00:00:00              1202  2004-04-19 00:00:00+00:00   \n",
       "1  2013-04-30T00:00:00             11101  2004-04-19 00:00:00+00:00   \n",
       "2  2013-04-30T00:00:00             11111  2004-04-19 00:00:00+00:00   \n",
       "3  2013-04-30T00:00:00             12101  2004-04-19 00:00:00+00:00   \n",
       "4  2013-04-30T00:00:00             42311  2007-07-11 00:00:00+00:00   \n",
       "\n",
       "   procedure_year  age_at_filling  risk  \n",
       "0            2004            49.0   0.0  \n",
       "1            2004            49.0   0.0  \n",
       "2            2004            49.0   0.0  \n",
       "3            2004            49.0   0.0  \n",
       "4            2007            52.0   0.0  "
      ]
     },
     "execution_count": 6,
     "metadata": {},
     "output_type": "execute_result"
    }
   ],
   "source": [
    "df.head()"
   ]
  },
  {
   "cell_type": "code",
   "execution_count": 7,
   "metadata": {},
   "outputs": [],
   "source": [
    "# Get a txt doc of procedure_code with 0 risk level\n",
    "zero_risk_procedure_codes = []\n",
    "for i, r in enumerate(df['risk']):\n",
    "    if r == 0:\n",
    "        zero_risk_procedure_codes.append(df['procedure_code_y'][i])\n",
    "\n",
    "with open(\"zero_risk_procedure_codes.txt\", \"w\") as file:\n",
    "    for code in zero_risk_procedure_codes:\n",
    "        file.write(str(code) + \"\\n\")"
   ]
  },
  {
   "cell_type": "code",
   "execution_count": 8,
   "metadata": {},
   "outputs": [],
   "source": [
    "# Get a txt doc of procedure_code with 0 risk level\n",
    "non_zero_risk_procedure_codes = []\n",
    "for i, r in enumerate(df['risk']):\n",
    "    if r != 0:\n",
    "        non_zero_risk_procedure_codes.append(df['procedure_code_y'][i])\n",
    "\n",
    "with open(\"non_zero_risk_procedure_codes.txt\", \"w\") as file:\n",
    "    for code in non_zero_risk_procedure_codes:\n",
    "        file.write(str(code) + \"\\n\")"
   ]
  },
  {
   "cell_type": "code",
   "execution_count": 33,
   "metadata": {},
   "outputs": [],
   "source": [
    "# 4. Define a function to compute the final normalized risk for a single patient.\n",
    "def compute_patient_risk(patient_df):\n",
    "    # Determine the treatment timeline for the patient\n",
    "    min_year = patient_df['procedure_year'].min()\n",
    "    max_year = patient_df['procedure_year'].max()\n",
    "    normalized_risks = []\n",
    "    \n",
    "    # Slide the window year by year from the first to the last treatment year.\n",
    "    for current_year in range(min_year, max_year + 1):\n",
    "        start_window = current_year - 5\n",
    "        end_window = current_year + 2\n",
    "        # Filter treatments that fall within the current window.\n",
    "        window_df = patient_df[(patient_df['procedure_year'] >= start_window) & (patient_df['procedure_year'] <= end_window)]\n",
    "        risk_sum = window_df['risk'].sum()\n",
    "        # Normalize the risk sum to the 6-point scale.\n",
    "        normalized_risk = risk_sum / 6\n",
    "        normalized_risks.append(normalized_risk)\n",
    "    \n",
    "    # The final risk is the average of normalized risks from each window.\n",
    "    if normalized_risks:\n",
    "        final_risk = sum(normalized_risks) / len(normalized_risks)\n",
    "    else:\n",
    "        final_risk = 0\n",
    "    return final_risk"
   ]
  },
  {
   "cell_type": "code",
   "execution_count": 34,
   "metadata": {},
   "outputs": [
    {
     "name": "stdout",
     "output_type": "stream",
     "text": [
      "   patient_id  final_risk\n",
      "0           1   -0.233333\n",
      "1           2   -0.705128\n",
      "2           3   -0.277778\n",
      "3           4   -0.555556\n",
      "4           5   -0.151515\n"
     ]
    },
    {
     "name": "stderr",
     "output_type": "stream",
     "text": [
      "C:\\Users\\frank\\AppData\\Local\\Temp\\ipykernel_47964\\413853556.py:1: DeprecationWarning: DataFrameGroupBy.apply operated on the grouping columns. This behavior is deprecated, and in a future version of pandas the grouping columns will be excluded from the operation. Either pass `include_groups=False` to exclude the groupings or explicitly select the grouping columns after groupby to silence this warning.\n",
      "  patient_risks = df.groupby('patient_id').apply(compute_patient_risk)\n"
     ]
    }
   ],
   "source": [
    "patient_risks = df.groupby('patient_id').apply(compute_patient_risk)\n",
    "patient_risk_df = patient_risks.reset_index()\n",
    "patient_risk_df.columns = ['patient_id', 'final_risk']\n",
    "print(patient_risk_df.head())"
   ]
  },
  {
   "cell_type": "code",
   "execution_count": 35,
   "metadata": {},
   "outputs": [
    {
     "data": {
      "application/vnd.microsoft.datawrangler.viewer.v0+json": {
       "columns": [
        {
         "name": "index",
         "rawType": "int64",
         "type": "integer"
        },
        {
         "name": "patient_id",
         "rawType": "int64",
         "type": "integer"
        },
        {
         "name": "final_risk",
         "rawType": "float64",
         "type": "float"
        }
       ],
       "conversionMethod": "pd.DataFrame",
       "ref": "ebf75580-ba4c-4699-bba2-7c259d695514",
       "rows": [
        [
         "0",
         "1",
         "-0.23333333333333334"
        ],
        [
         "1",
         "2",
         "-0.705128205128205"
        ],
        [
         "2",
         "3",
         "-0.2777777777777778"
        ],
        [
         "3",
         "4",
         "-0.5555555555555556"
        ],
        [
         "4",
         "5",
         "-0.1515151515151515"
        ],
        [
         "5",
         "6",
         "-0.7291666666666665"
        ],
        [
         "6",
         "7",
         "-0.3"
        ],
        [
         "7",
         "8",
         "-0.16666666666666666"
        ],
        [
         "8",
         "9",
         "-0.25"
        ],
        [
         "9",
         "10",
         "-1.1166666666666667"
        ],
        [
         "10",
         "11",
         "-0.39999999999999997"
        ],
        [
         "11",
         "12",
         "-0.6111111111111112"
        ],
        [
         "12",
         "13",
         "-0.2727272727272727"
        ],
        [
         "13",
         "14",
         "-1.0"
        ],
        [
         "14",
         "15",
         "-0.23188405797101447"
        ],
        [
         "15",
         "16",
         "-0.23529411764705882"
        ],
        [
         "16",
         "17",
         "-0.9761904761904762"
        ],
        [
         "17",
         "18",
         "-1.1904761904761905"
        ],
        [
         "18",
         "19",
         "-0.24999999999999994"
        ],
        [
         "19",
         "20",
         "-0.26666666666666666"
        ],
        [
         "20",
         "21",
         "-1.6060606060606057"
        ],
        [
         "21",
         "22",
         "-1.0526315789473684"
        ],
        [
         "22",
         "23",
         "0.1481481481481481"
        ],
        [
         "23",
         "24",
         "-0.6428571428571429"
        ],
        [
         "24",
         "26",
         "0.0"
        ],
        [
         "25",
         "27",
         "0.0"
        ],
        [
         "26",
         "28",
         "-0.3333333333333333"
        ],
        [
         "27",
         "29",
         "-0.19047619047619047"
        ],
        [
         "28",
         "30",
         "-0.5111111111111112"
        ],
        [
         "29",
         "31",
         "0.0"
        ],
        [
         "30",
         "32",
         "-0.9999999999999997"
        ],
        [
         "31",
         "33",
         "-0.7254901960784315"
        ],
        [
         "32",
         "34",
         "0.0"
        ],
        [
         "33",
         "35",
         "0.2424242424242424"
        ],
        [
         "34",
         "36",
         "0.0"
        ],
        [
         "35",
         "38",
         "0.0"
        ],
        [
         "36",
         "39",
         "0.0"
        ],
        [
         "37",
         "41",
         "0.0"
        ],
        [
         "38",
         "44",
         "-0.25"
        ],
        [
         "39",
         "45",
         "-0.25925925925925924"
        ],
        [
         "40",
         "46",
         "-0.5"
        ],
        [
         "41",
         "47",
         "0.0"
        ],
        [
         "42",
         "48",
         "0.0"
        ],
        [
         "43",
         "50",
         "-0.16666666666666666"
        ],
        [
         "44",
         "51",
         "-1.0277777777777777"
        ],
        [
         "45",
         "52",
         "0.0"
        ],
        [
         "46",
         "56",
         "0.0"
        ],
        [
         "47",
         "57",
         "-0.392156862745098"
        ],
        [
         "48",
         "58",
         "-0.41666666666666663"
        ],
        [
         "49",
         "59",
         "-0.7999999999999999"
        ]
       ],
       "shape": {
        "columns": 2,
        "rows": 10856
       }
      },
      "text/html": [
       "<div>\n",
       "<style scoped>\n",
       "    .dataframe tbody tr th:only-of-type {\n",
       "        vertical-align: middle;\n",
       "    }\n",
       "\n",
       "    .dataframe tbody tr th {\n",
       "        vertical-align: top;\n",
       "    }\n",
       "\n",
       "    .dataframe thead th {\n",
       "        text-align: right;\n",
       "    }\n",
       "</style>\n",
       "<table border=\"1\" class=\"dataframe\">\n",
       "  <thead>\n",
       "    <tr style=\"text-align: right;\">\n",
       "      <th></th>\n",
       "      <th>patient_id</th>\n",
       "      <th>final_risk</th>\n",
       "    </tr>\n",
       "  </thead>\n",
       "  <tbody>\n",
       "    <tr>\n",
       "      <th>0</th>\n",
       "      <td>1</td>\n",
       "      <td>-0.233333</td>\n",
       "    </tr>\n",
       "    <tr>\n",
       "      <th>1</th>\n",
       "      <td>2</td>\n",
       "      <td>-0.705128</td>\n",
       "    </tr>\n",
       "    <tr>\n",
       "      <th>2</th>\n",
       "      <td>3</td>\n",
       "      <td>-0.277778</td>\n",
       "    </tr>\n",
       "    <tr>\n",
       "      <th>3</th>\n",
       "      <td>4</td>\n",
       "      <td>-0.555556</td>\n",
       "    </tr>\n",
       "    <tr>\n",
       "      <th>4</th>\n",
       "      <td>5</td>\n",
       "      <td>-0.151515</td>\n",
       "    </tr>\n",
       "    <tr>\n",
       "      <th>...</th>\n",
       "      <td>...</td>\n",
       "      <td>...</td>\n",
       "    </tr>\n",
       "    <tr>\n",
       "      <th>10851</th>\n",
       "      <td>13580</td>\n",
       "      <td>0.000000</td>\n",
       "    </tr>\n",
       "    <tr>\n",
       "      <th>10852</th>\n",
       "      <td>13583</td>\n",
       "      <td>0.000000</td>\n",
       "    </tr>\n",
       "    <tr>\n",
       "      <th>10853</th>\n",
       "      <td>13584</td>\n",
       "      <td>0.000000</td>\n",
       "    </tr>\n",
       "    <tr>\n",
       "      <th>10854</th>\n",
       "      <td>13586</td>\n",
       "      <td>0.000000</td>\n",
       "    </tr>\n",
       "    <tr>\n",
       "      <th>10855</th>\n",
       "      <td>13589</td>\n",
       "      <td>-0.583333</td>\n",
       "    </tr>\n",
       "  </tbody>\n",
       "</table>\n",
       "<p>10856 rows × 2 columns</p>\n",
       "</div>"
      ],
      "text/plain": [
       "       patient_id  final_risk\n",
       "0               1   -0.233333\n",
       "1               2   -0.705128\n",
       "2               3   -0.277778\n",
       "3               4   -0.555556\n",
       "4               5   -0.151515\n",
       "...           ...         ...\n",
       "10851       13580    0.000000\n",
       "10852       13583    0.000000\n",
       "10853       13584    0.000000\n",
       "10854       13586    0.000000\n",
       "10855       13589   -0.583333\n",
       "\n",
       "[10856 rows x 2 columns]"
      ]
     },
     "execution_count": 35,
     "metadata": {},
     "output_type": "execute_result"
    }
   ],
   "source": [
    "patient_risk_df"
   ]
  },
  {
   "cell_type": "code",
   "execution_count": 36,
   "metadata": {},
   "outputs": [
    {
     "data": {
      "image/png": "[encoded data removed]",
      "text/plain": [
       "<Figure size 800x500 with 1 Axes>"
      ]
     },
     "metadata": {},
     "output_type": "display_data"
    }
   ],
   "source": [
    "import matplotlib.pyplot as plt\n",
    "\n",
    "# Plot a histogram of final risk\n",
    "plt.figure(figsize=(8, 5))\n",
    "plt.hist(patient_risk_df['final_risk'], bins=15, edgecolor='black')\n",
    "plt.xlabel('Final Risk')\n",
    "plt.ylabel('Number of Patients')\n",
    "plt.title('Distribution of Final Risk Among Patients')\n",
    "plt.show()"
   ]
  },
  {
   "cell_type": "code",
   "execution_count": 13,
   "metadata": {},
   "outputs": [
    {
     "name": "stdout",
     "output_type": "stream",
     "text": [
      "Mean Risk: -0.32240513022674955\n",
      "Standard Deviation of Risk: 0.6330291108248859\n",
      "High Threshold: 0.31062398059813634\n",
      "Low Threshold: -0.9554342410516354\n"
     ]
    }
   ],
   "source": [
    "# n using those values to set data-driven thresholds for categorizing patients into Low, Medium, or High risk.\n",
    "mean_risk = patient_risk_df['final_risk'].mean()\n",
    "std_risk = patient_risk_df['final_risk'].std()\n",
    "\n",
    "print(\"Mean Risk:\", mean_risk)\n",
    "print(\"Standard Deviation of Risk:\", std_risk)\n",
    "\n",
    "high_threshold = mean_risk + std_risk  # 1 SD above the mean\n",
    "low_threshold = mean_risk - std_risk   # 1 SD below the mean\n",
    "\n",
    "print(\"High Threshold:\", high_threshold)\n",
    "print(\"Low Threshold:\", low_threshold)"
   ]
  },
  {
   "cell_type": "code",
   "execution_count": 14,
   "metadata": {},
   "outputs": [],
   "source": [
    "# High_risk_patient_id = []\n",
    "# for i, r in enumerate(patient_risk_df['final_risk']):\n",
    "#     if r >= 4:\n",
    "#         High_risk_patient_id.append(patient_risk_df['patient_id'][i])\n",
    "# # with open(\"High_risk_patient_id.txt\", \"w\") as file:\n",
    "# #     for code in High_risk_patient_id:\n",
    "# #         file.write(str(code) + \"\\n\")\n",
    "\n",
    "# Medium_risk_patient_id = []\n",
    "# for i, r in enumerate(patient_risk_df['final_risk']):\n",
    "#     if r <= 4 and r > 1:\n",
    "#         Medium_risk_patient_id.append(patient_risk_df['patient_id'][i])\n",
    "# # with open(\"Medium_risk_patient_id.txt\", \"w\") as file:\n",
    "# #     for code in Medium_risk_patient_id:\n",
    "# #         file.write(str(code) + \"\\n\")\n",
    "\n",
    "# Low_risk_patient_id = []\n",
    "# for i, r in enumerate(patient_risk_df['final_risk']):\n",
    "#     if r <= 1:\n",
    "#         Low_risk_patient_id.append(patient_risk_df['patient_id'][i])\n",
    "# # with open(\"Low_risk_patient_id.txt\", \"w\") as file:\n",
    "# #     for code in Low_risk_patient_id:\n",
    "# #         file.write(str(code) + \"\\n\")"
   ]
  },
  {
   "cell_type": "code",
   "execution_count": 15,
   "metadata": {},
   "outputs": [
    {
     "name": "stderr",
     "output_type": "stream",
     "text": [
      "C:\\Users\\frank\\AppData\\Local\\Temp\\ipykernel_47964\\3880658661.py:19: FutureWarning: \n",
      "\n",
      "Passing `palette` without assigning `hue` is deprecated and will be removed in v0.14.0. Assign the `x` variable to `hue` and set `legend=False` for the same effect.\n",
      "\n",
      "  sns.countplot(data=patient_risk_df, x='risk_category',\n"
     ]
    },
    {
     "data": {
      "image/png": "[encoded data removed]",
      "text/plain": [
       "<Figure size 600x400 with 1 Axes>"
      ]
     },
     "metadata": {},
     "output_type": "display_data"
    },
    {
     "data": {
      "image/png": "[encoded data removed]",
      "text/plain": [
       "<Figure size 600x600 with 1 Axes>"
      ]
     },
     "metadata": {},
     "output_type": "display_data"
    }
   ],
   "source": [
    "import pandas as pd\n",
    "import seaborn as sns\n",
    "import matplotlib.pyplot as plt\n",
    "\n",
    "def categorize_risk(r):\n",
    "    if r > high_threshold:\n",
    "        return 'High'\n",
    "    elif r > low_threshold:\n",
    "        return 'Medium'\n",
    "    else:\n",
    "        return 'Low'\n",
    "\n",
    "patient_risk_df['risk_category'] = patient_risk_df['final_risk'].apply(categorize_risk)\n",
    "\n",
    "# -------------------------------------\n",
    "# Bar Chart of Risk Categories\n",
    "# -------------------------------------\n",
    "plt.figure(figsize=(6, 4))\n",
    "sns.countplot(data=patient_risk_df, x='risk_category', \n",
    "              order=['Low', 'Medium', 'High'], \n",
    "              palette=['green','gold','red'])\n",
    "plt.title('Number of Patients by Risk Category')\n",
    "plt.xlabel('Risk Category')\n",
    "plt.ylabel('Count of Patients')\n",
    "plt.show()\n",
    "\n",
    "# -------------------------------------\n",
    "# Pie Chart of Risk Categories\n",
    "# -------------------------------------\n",
    "risk_counts = patient_risk_df['risk_category'].value_counts()\n",
    "\n",
    "plt.figure(figsize=(6,6))\n",
    "plt.pie(risk_counts, \n",
    "        labels=risk_counts.index, \n",
    "        autopct='%1.1f%%', \n",
    "        startangle=140,\n",
    "        colors=['gold','green','red'])\n",
    "plt.title('Distribution of Patients by Risk Category')\n",
    "plt.show()"
   ]
  },
  {
   "cell_type": "markdown",
   "metadata": {},
   "source": [
    "---"
   ]
  },
  {
   "cell_type": "code",
   "execution_count": 19,
   "metadata": {},
   "outputs": [
    {
     "data": {
      "image/png": "[encoded data removed]",
      "text/plain": [
       "<Figure size 800x500 with 1 Axes>"
      ]
     },
     "metadata": {},
     "output_type": "display_data"
    }
   ],
   "source": [
    "# Consider adding age as a variable for the risk level (age as a regulation term)\n",
    "plt.figure(figsize=(8, 5))\n",
    "plt.hist(df['age_at_filling'], bins=15, edgecolor='black')\n",
    "plt.xlabel('Age')\n",
    "plt.ylabel('Number of Patients')\n",
    "plt.title('Distribution of Age')\n",
    "plt.show()"
   ]
  },
  {
   "cell_type": "code",
   "execution_count": null,
   "metadata": {},
   "outputs": [
    {
     "name": "stdout",
     "output_type": "stream",
     "text": [
      "Mean Risk: 37.700731578337134\n",
      "Standard Deviation of Risk: 22.511946686424768\n",
      "High Threshold: 60.212678264761905\n",
      "Low Threshold: 15.188784891912366\n"
     ]
    }
   ],
   "source": [
    "# Age follows a normal distribution\n",
    "# mean_age = df['age_at_filling'].mean()\n",
    "# std_age = df['age_at_filling'].std()\n",
    "\n",
    "# print(\"Mean Risk:\", mean_age)\n",
    "# print(\"Standard Deviation of Risk:\", std_age)\n",
    "\n",
    "# high_threshold_age = mean_age + std_age  # 1 SD above the mean\n",
    "# low_threshold_age = mean_age - std_age   # 1 SD below the mean\n",
    "\n",
    "# print(\"High Threshold:\", high_threshold_age)\n",
    "# print(\"Low Threshold:\", low_threshold_age)\n",
    "# Not a good idea as children and elders are more likely to take serious treatments"
   ]
  },
  {
   "cell_type": "code",
   "execution_count": null,
   "metadata": {},
   "outputs": [],
   "source": [
    "# def age_adjusted_risk(row):\n",
    "#     base_risk = row['risk']\n",
    "#     age = row['age_at_filling']\n",
    "    \n",
    "#     # Example piecewise approach based on common dental risk considerations\n",
    "#     # (carries risk in pediatric patients, increasing periodontal/gum disease risk with age, \n",
    "#     #  more complex restorations and comorbidities in older adults, etc.)\n",
    "    \n",
    "#     if age < 18:\n",
    "#         # Pediatric: higher risk of caries due to developing hygiene habits, diet, etc.\n",
    "#         age_factor = 1  \n",
    "#     elif 18 <= age < 30:\n",
    "#         # Young adult: typically healthier gums, lower risk\n",
    "#         age_factor = 0  \n",
    "#     elif 30 <= age < 50:\n",
    "#         # Early signs of periodontal issues, possible restorative work from earlier caries\n",
    "#         age_factor = 1  \n",
    "#     elif 50 <= age < 65:\n",
    "#         # Increased risk of gum disease, dryness, and more complex restorative history\n",
    "#         age_factor = 2  \n",
    "#     elif 65 <= age < 80:\n",
    "#         # Further increase in periodontal problems, root caries, possibly multiple comorbidities\n",
    "#         age_factor = 3  \n",
    "#     else:  # age >= 80\n",
    "#         # Very elderly: frailty, significant restorative history, dry mouth (xerostomia), dexterity issues\n",
    "#         age_factor = 4\n",
    "#     return base_risk + age_factor\n",
    "\n",
    "# def compute_patient_risk_adj(patient_df):\n",
    "#     # Determine the treatment timeline for the patient\n",
    "#     min_year = patient_df['procedure_year'].min()\n",
    "#     max_year = patient_df['procedure_year'].max()\n",
    "#     normalized_risks = []\n",
    "    \n",
    "#     # Slide the window year by year from the first to the last treatment year.\n",
    "#     for current_year in range(min_year, max_year + 1):\n",
    "#         start_window = current_year - 5\n",
    "#         end_window = current_year + 2\n",
    "#         # Filter treatments that fall within the current window.\n",
    "#         window_df = patient_df[(patient_df['procedure_year'] >= start_window) & (patient_df['procedure_year'] <= end_window)]\n",
    "#         window_df['adj_risk'] = window_df.apply(age_adjusted_risk, axis=1)\n",
    "#         risk_sum = window_df['risk'].sum()\n",
    "#         # Normalize the risk sum to the 6-point scale.\n",
    "#         normalized_risk = risk_sum / 6\n",
    "#         normalized_risks.append(normalized_risk)\n",
    "    \n",
    "#     # The final risk is the average of normalized risks from each window.\n",
    "#     if normalized_risks:\n",
    "#         final_risk = sum(normalized_risks) / len(normalized_risks)\n",
    "#     else:\n",
    "#         final_risk = 0\n",
    "#     return final_risk\n"
   ]
  },
  {
   "cell_type": "code",
   "execution_count": 43,
   "metadata": {},
   "outputs": [
    {
     "name": "stderr",
     "output_type": "stream",
     "text": [
      "C:\\Users\\frank\\AppData\\Local\\Temp\\ipykernel_47964\\1207905922.py:55: DeprecationWarning: DataFrameGroupBy.apply operated on the grouping columns. This behavior is deprecated, and in a future version of pandas the grouping columns will be excluded from the operation. Either pass `include_groups=False` to exclude the groupings or explicitly select the grouping columns after groupby to silence this warning.\n",
      "  patient_risks_adj = df.groupby('patient_id').apply(compute_patient_risk_adj)\n"
     ]
    },
    {
     "data": {
      "image/png": "[encoded data removed]",
      "text/plain": [
       "<Figure size 800x500 with 1 Axes>"
      ]
     },
     "metadata": {},
     "output_type": "display_data"
    }
   ],
   "source": [
    "# Additive age factor\n",
    "def compute_patient_risk_adj(patient_df):\n",
    "    def age_adjusted_risk(row):\n",
    "        base_risk = row['risk']\n",
    "        age = row['age_at_filling']\n",
    "\n",
    "        # Simple piecewise approach (you can modify these brackets/values)\n",
    "        if age < 18:\n",
    "            # Pediatric: higher risk of caries, orthodontic complications\n",
    "            age_factor = 1\n",
    "        elif 18 <= age < 30:\n",
    "            # Young adult: typically lower additional risk\n",
    "            age_factor = 0\n",
    "        elif 30 <= age < 50:\n",
    "            # Middle adult: early periodontal issues, existing restorations\n",
    "            age_factor = 1\n",
    "        elif 50 <= age < 65:\n",
    "            # Pre-senior: increased risk of gum disease, dryness\n",
    "            age_factor = 2\n",
    "        elif 65 <= age < 80:\n",
    "            # Senior adult: multiple restorations, possible comorbidities\n",
    "            age_factor = 3\n",
    "        else:  # age >= 80\n",
    "            # Very elderly: frailty, significant restorative history, dry mouth\n",
    "            age_factor = 4\n",
    "        \n",
    "        return base_risk + age_factor\n",
    "    \n",
    "    min_year = patient_df['procedure_year'].min()\n",
    "    max_year = patient_df['procedure_year'].max()\n",
    "    normalized_risks = []\n",
    "    \n",
    "    for current_year in range(min_year, max_year + 1):\n",
    "        start_window = current_year - 5\n",
    "        end_window = current_year + 2\n",
    "        \n",
    "        window_df = patient_df[(patient_df['procedure_year'] >= start_window) & (patient_df['procedure_year'] <= end_window)]\n",
    "        \n",
    "        # Apply the age-based adjustment to each row in this window\n",
    "        window_df = window_df.copy()  # avoid SettingWithCopyWarning\n",
    "        window_df['adj_risk'] = window_df.apply(age_adjusted_risk, axis=1)\n",
    "        \n",
    "        risk_sum = window_df['adj_risk'].sum()\n",
    "        \n",
    "        normalized_risk = risk_sum / 6\n",
    "        normalized_risks.append(normalized_risk)\n",
    "    \n",
    "    if normalized_risks:\n",
    "        final_risk = sum(normalized_risks) / len(normalized_risks)\n",
    "    else:\n",
    "        final_risk = 0\n",
    "    \n",
    "    return final_risk\n",
    "\n",
    "patient_risks_adj = df.groupby('patient_id').apply(compute_patient_risk_adj)\n",
    "patient_risk_df_adj = patient_risks_adj.reset_index()\n",
    "patient_risk_df_adj.columns = ['patient_id', 'final_adj_risk']\n",
    "\n",
    "# Plot a histogram of final risk\n",
    "plt.figure(figsize=(8, 5))\n",
    "plt.hist(patient_risk_df_adj['final_adj_risk'], bins=15, edgecolor='black')\n",
    "plt.xlabel('Final Risk')\n",
    "plt.ylabel('Number of Patients')\n",
    "plt.title('Distribution of Final Risk Among Patients')\n",
    "plt.show()"
   ]
  },
  {
   "cell_type": "code",
   "execution_count": 45,
   "metadata": {},
   "outputs": [
    {
     "name": "stderr",
     "output_type": "stream",
     "text": [
      "C:\\Users\\frank\\AppData\\Local\\Temp\\ipykernel_47964\\1059553793.py:70: DeprecationWarning: DataFrameGroupBy.apply operated on the grouping columns. This behavior is deprecated, and in a future version of pandas the grouping columns will be excluded from the operation. Either pass `include_groups=False` to exclude the groupings or explicitly select the grouping columns after groupby to silence this warning.\n",
      "  patient_risks_adj = df.groupby('patient_id').apply(compute_patient_risk_adj)\n"
     ]
    },
    {
     "data": {
      "image/png": "[encoded data removed]",
      "text/plain": [
       "<Figure size 800x500 with 1 Axes>"
      ]
     },
     "metadata": {},
     "output_type": "display_data"
    }
   ],
   "source": [
    "def compute_patient_risk_adj(patient_df):\n",
    "    \"\"\"\n",
    "    Computes a final risk score for a single patient by:\n",
    "      1. Sliding a window of (year-5) to (year+2) across each treatment year.\n",
    "      2. Summing age-adjusted (multiplicative) risk scores within that window.\n",
    "      3. Normalizing by dividing by 6.\n",
    "      4. Averaging the normalized risk across all windows.\n",
    "    \"\"\"\n",
    "\n",
    "    def age_adjusted_risk(row):\n",
    "        base_risk = row['risk']\n",
    "        age = row['age_at_filling']  # Make sure this column exists in your DataFrame\n",
    "\n",
    "        # Example piecewise approach using multiplicative factors.\n",
    "        # You can adjust these brackets/factors as needed.\n",
    "        if age < 18:\n",
    "            # Pediatric\n",
    "            age_factor = 1.1\n",
    "        elif 18 <= age < 30:\n",
    "            age_factor = 1.0\n",
    "        elif 30 <= age < 40:\n",
    "            age_factor = 1.1\n",
    "        elif 40 <= age < 50:\n",
    "            age_factor = 1.2\n",
    "        elif 50 <= age < 60:\n",
    "            age_factor = 1.3\n",
    "        elif 60 <= age < 70:\n",
    "            age_factor = 1.4\n",
    "        elif 70 <= age < 80:\n",
    "            age_factor = 1.5\n",
    "        else:  # age >= 80\n",
    "            age_factor = 1.6\n",
    "\n",
    "        return base_risk * age_factor\n",
    "\n",
    "    # Determine the treatment timeline (integer years)\n",
    "    min_year = patient_df['procedure_year'].min()\n",
    "    max_year = patient_df['procedure_year'].max()\n",
    "    normalized_risks = []\n",
    "    \n",
    "    # Slide the window year by year from the first to the last treatment year\n",
    "    for current_year in range(min_year, max_year + 1):\n",
    "        start_window = current_year - 5\n",
    "        end_window = current_year + 2\n",
    "        \n",
    "        # Filter treatments within the current window\n",
    "        window_df = patient_df[\n",
    "            (patient_df['procedure_year'] >= start_window) &\n",
    "            (patient_df['procedure_year'] <= end_window)\n",
    "        ].copy()\n",
    "        \n",
    "        # Apply the age-based multiplicative adjustment\n",
    "        window_df['adj_risk'] = window_df.apply(age_adjusted_risk, axis=1)\n",
    "        \n",
    "        # Sum the adjusted risk in this window\n",
    "        risk_sum = window_df['adj_risk'].sum()\n",
    "        \n",
    "        # Normalize to a 6-point scale\n",
    "        normalized_risk = risk_sum / 6\n",
    "        normalized_risks.append(normalized_risk)\n",
    "    \n",
    "    # The final risk is the average of normalized risks from each window\n",
    "    if normalized_risks:\n",
    "        final_risk = sum(normalized_risks) / len(normalized_risks)\n",
    "    else:\n",
    "        final_risk = 0\n",
    "    \n",
    "    return final_risk\n",
    "\n",
    "patient_risks_adj = df.groupby('patient_id').apply(compute_patient_risk_adj)\n",
    "patient_risk_df_adj = patient_risks_adj.reset_index()\n",
    "patient_risk_df_adj.columns = ['patient_id', 'final_adj_risk']\n",
    "\n",
    "# Plot a histogram of final risk\n",
    "plt.figure(figsize=(8, 5))\n",
    "plt.hist(patient_risk_df_adj['final_adj_risk'], bins=15, edgecolor='black')\n",
    "plt.xlabel('Final Risk')\n",
    "plt.ylabel('Number of Patients')\n",
    "plt.title('Distribution of Final Risk Among Patients')\n",
    "plt.show()\n"
   ]
  },
  {
   "cell_type": "code",
   "execution_count": 56,
   "metadata": {},
   "outputs": [
    {
     "name": "stdout",
     "output_type": "stream",
     "text": [
      "Optimal λ for Box-Cox: 1.379027599528144\n"
     ]
    },
    {
     "data": {
      "image/png": "[encoded data removed]",
      "text/plain": [
       "<Figure size 800x500 with 1 Axes>"
      ]
     },
     "metadata": {},
     "output_type": "display_data"
    }
   ],
   "source": [
    "from scipy.stats import boxcox\n",
    "# Box-Cox can help stabilize variance and make the distribution more symmetric.\n",
    "# 1. Box-Cox requires strictly positive data. \n",
    "shift_amount = 3\n",
    "shifted_final_risk = patient_risk_df['final_risk'] + shift_amount\n",
    "shifted_final_risk = shifted_final_risk.clip(lower=1e-6)\n",
    "\n",
    "# 2. Apply Box-Cox\n",
    "# boxcox returns the transformed data and the lambda used\n",
    "transformed, lam = boxcox(shifted_final_risk)\n",
    "\n",
    "# 3. Store the Box-Cox-transformed final risk in the DataFrame\n",
    "patient_risk_df['final_risk_boxcox'] = transformed\n",
    "print(f\"Optimal λ for Box-Cox: {lam}\")\n",
    "\n",
    "# 4. Plot the distribution of Box-Cox-transformed final risk\n",
    "plt.figure(figsize=(8,5))\n",
    "sns.histplot(patient_risk_df['final_risk_boxcox'], bins=20, edgecolor='black')\n",
    "plt.xlabel('Box-Cox Transformed Final Risk')\n",
    "plt.ylabel('Number of Patients')\n",
    "plt.title('Distribution of Box-Cox-Transformed Final Risk')\n",
    "plt.show()"
   ]
  },
  {
   "cell_type": "code",
   "execution_count": 55,
   "metadata": {},
   "outputs": [
    {
     "name": "stdout",
     "output_type": "stream",
     "text": [
      "Mean Risk: 2.146638967588639\n",
      "Standard Deviation of Risk: 0.7656700857628356\n",
      "High Threshold: 2.9123090533514744\n",
      "Low Threshold: 1.3809688818258032\n"
     ]
    },
    {
     "name": "stderr",
     "output_type": "stream",
     "text": [
      "C:\\Users\\frank\\AppData\\Local\\Temp\\ipykernel_47964\\2081024013.py:28: FutureWarning: \n",
      "\n",
      "Passing `palette` without assigning `hue` is deprecated and will be removed in v0.14.0. Assign the `x` variable to `hue` and set `legend=False` for the same effect.\n",
      "\n",
      "  sns.countplot(data=patient_risk_df, x='risk_category',\n"
     ]
    },
    {
     "data": {
      "image/png": "[encoded data removed]",
      "text/plain": [
       "<Figure size 600x400 with 1 Axes>"
      ]
     },
     "metadata": {},
     "output_type": "display_data"
    },
    {
     "data": {
      "image/png": "[encoded data removed]",
      "text/plain": [
       "<Figure size 600x600 with 1 Axes>"
      ]
     },
     "metadata": {},
     "output_type": "display_data"
    }
   ],
   "source": [
    "# n using those values to set data-driven thresholds for categorizing patients into Low, Medium, or High risk.\n",
    "mean_risk = patient_risk_df['final_risk_boxcox'].mean()\n",
    "std_risk = patient_risk_df['final_risk_boxcox'].std()\n",
    "\n",
    "print(\"Mean Risk:\", mean_risk)\n",
    "print(\"Standard Deviation of Risk:\", std_risk)\n",
    "\n",
    "high_threshold = mean_risk + std_risk  # 1 SD above the mean\n",
    "low_threshold = mean_risk - std_risk   # 1 SD below the mean\n",
    "\n",
    "print(\"High Threshold:\", high_threshold)\n",
    "print(\"Low Threshold:\", low_threshold)\n",
    "\n",
    "def categorize_risk(r):\n",
    "    if r > high_threshold:\n",
    "        return 'High'\n",
    "    elif r > low_threshold:\n",
    "        return 'Medium'\n",
    "    else:\n",
    "        return 'Low'\n",
    "\n",
    "patient_risk_df['risk_category'] = patient_risk_df['final_risk_boxcox'].apply(categorize_risk)\n",
    "\n",
    "# -------------------------------------\n",
    "# Bar Chart of Risk Categories\n",
    "# -------------------------------------\n",
    "plt.figure(figsize=(6, 4))\n",
    "sns.countplot(data=patient_risk_df, x='risk_category', \n",
    "              order=['Low', 'Medium', 'High'], \n",
    "              palette=['green','gold','red'])\n",
    "plt.title('Number of Patients by Risk Category boxcox')\n",
    "plt.xlabel('Risk Category')\n",
    "plt.ylabel('Count of Patients')\n",
    "plt.show()\n",
    "\n",
    "# -------------------------------------\n",
    "# Pie Chart of Risk Categories\n",
    "# -------------------------------------\n",
    "risk_counts = patient_risk_df['risk_category'].value_counts()\n",
    "\n",
    "plt.figure(figsize=(6,6))\n",
    "plt.pie(risk_counts, \n",
    "        labels=risk_counts.index, \n",
    "        autopct='%1.1f%%', \n",
    "        startangle=140,\n",
    "        colors=['gold','green','red'])\n",
    "plt.title('Distribution of Patients by Risk Category boxcox')\n",
    "plt.show()"
   ]
  },
  {
   "cell_type": "markdown",
   "metadata": {},
   "source": [
    "Transforming risk level distribution to be more normal can offer several benefits in both analysis and interpretation:\n",
    "\n",
    "* Many statistical tests and models (like t-tests, regression analyses, and ANOVA) assume normality. A normal distribution allows you to apply these methods more reliably.\n",
    "\n",
    "* When the data are normally distributed, you can define risk thresholds (e.g., using mean ± 1 or 2 standard deviations) that have a clear probabilistic interpretation. This is useful for identifying outliers or high-risk patients. (in this case)\n",
    "\n",
    "* In predictive modeling, transforming the risk levels to approximate normality can improve the performance of models that assume homoscedasticity (equal variance across the range) or linear relationships.\n"
   ]
  }
 ],
 "metadata": {
  "kernelspec": {
   "display_name": "Python 3",
   "language": "python",
   "name": "python3"
  },
  "language_info": {
   "codemirror_mode": {
    "name": "ipython",
    "version": 3
   },
   "file_extension": ".py",
   "mimetype": "text/x-python",
   "name": "python",
   "nbconvert_exporter": "python",
   "pygments_lexer": "ipython3",
   "version": "3.12.7"
  }
 },
 "nbformat": 4,
 "nbformat_minor": 2
}
