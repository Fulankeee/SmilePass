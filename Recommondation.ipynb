{
 "cells": [
  {
   "cell_type": "code",
   "execution_count": null,
   "id": "a89eeb47",
   "metadata": {},
   "outputs": [],
   "source": [
    "import matplotlib.pyplot as plt\n",
    "import pandas as pd\n",
    "import numpy as np\n",
    "\n",
    "# Import Ruiwu's helper functions for data cleaning, slicing and aggregating\n",
    "import sys\n",
    "sys.path.append(r'C:\\Frank\\UoT 2024-2025\\MIE8888 Project\\M18\\RUIWU')\n",
    "from helper_functions import *"
   ]
  },
  {
   "cell_type": "code",
   "execution_count": 3,
   "id": "1282c168",
   "metadata": {},
   "outputs": [
    {
     "name": "stderr",
     "output_type": "stream",
     "text": [
      "C:\\Users\\frank\\AppData\\Local\\Temp\\ipykernel_35196\\1841645292.py:2: DtypeWarning: Columns (1,4,10,16,52,85,86,91) have mixed types. Specify dtype option on import or set low_memory=False.\n",
      "  df = pd.read_csv(full_dataset, encoding=\"Windows-1252\")\n"
     ]
    }
   ],
   "source": [
    "full_dataset = r\"C:\\Frank\\UoT 2024-2025\\MIE8888 Project\\full_dataset_2.11.csv\"\n",
    "df = pd.read_csv(full_dataset, encoding=\"Windows-1252\")"
   ]
  },
  {
   "cell_type": "code",
   "execution_count": 6,
   "id": "dfdba7e2",
   "metadata": {},
   "outputs": [
    {
     "name": "stdout",
     "output_type": "stream",
     "text": [
      "Index(['id_x_x', 'sikka_sub_task_operation_x_x', 'office_x_x', 'patient',\n",
      "       'guarantor_x', 'provider_x', 'description', 'visible_to_patient',\n",
      "       'amount', 'tooth_from', 'primary_insurance_estimate',\n",
      "       'secondary_insurance_estimate', 'plan_sr_no', 'entry_date',\n",
      "       'insurance_payment', 'treatment_plan_status', 'procedure_date',\n",
      "       'approved', 'from_pms_x_x', 'id_y_x', 'from_pms_y_x',\n",
      "       'sikka_sub_task_y_x', 'sikka_sub_task_operation_y_x', 'uuid',\n",
      "       'patient_id', 'guarantor_y', 'office_y_x', 'fullname', 'first_name',\n",
      "       'last_name', 'birth_date', 'address', 'city', 'state_y', 'first_visit',\n",
      "       'last_visit', 'phone', 'zip_code', 'practice', 'sikka_provider_id',\n",
      "       'primary_insurance_company_id', 'profile_picture', 'date_joined',\n",
      "       'zip_code_flag', 'address_comp', 'fetched_zip_code',\n",
      "       'fetched_zip_code_flag', 'zip_code_verified', 'final_zip_code',\n",
      "       'LATITUDE', 'LONGITUDE', 'id_x_y', 'from_pms_x_y', 'office_x_y',\n",
      "       'procedure_code_x', 'treatment', 'id_y_y', 'from_pms_y_y',\n",
      "       'sikka_sub_task_y_y', 'sikka_sub_task_operation_y_y', 'health_category',\n",
      "       'office_y_y', 'procedure_code_y', 'procedure_code_description',\n",
      "       'procedure_code_category', 'patient_friendly_description', 'price',\n",
      "       'treatment_id'],\n",
      "      dtype='object')\n"
     ]
    }
   ],
   "source": [
    "df = drop_high_nan_columns(df)\n",
    "print(df.columns)"
   ]
  }
 ],
 "metadata": {
  "kernelspec": {
   "display_name": "base",
   "language": "python",
   "name": "python3"
  },
  "language_info": {
   "codemirror_mode": {
    "name": "ipython",
    "version": 3
   },
   "file_extension": ".py",
   "mimetype": "text/x-python",
   "name": "python",
   "nbconvert_exporter": "python",
   "pygments_lexer": "ipython3",
   "version": "3.12.4"
  }
 },
 "nbformat": 4,
 "nbformat_minor": 5
}
