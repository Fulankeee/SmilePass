{
 "cells": [
  {
   "cell_type": "markdown",
   "metadata": {},
   "source": [
    "## Libraries and Loading"
   ]
  },
  {
   "cell_type": "code",
   "execution_count": 78,
   "metadata": {},
   "outputs": [],
   "source": [
    "import pandas as pd\n",
    "import chardet\n",
    "import matplotlib.pyplot as plt\n",
    "from collections import Counter"
   ]
  },
  {
   "cell_type": "code",
   "execution_count": 79,
   "metadata": {},
   "outputs": [],
   "source": [
    "Complete_data = r\"C:\\Frank\\UoT 2024-2025\\MIE8888 Project\\Data\\Complete Data\\21_treatements_backup_joined_patients_procedure_na_removed.csv\"\n",
    "Patient_Procedure = r\"C:\\Frank\\UoT 2024-2025\\MIE8888 Project\\Data\\Complete Data\\21_treatements_backup_joined_patients_procedure_grouped.csv\""
   ]
  },
  {
   "cell_type": "markdown",
   "metadata": {},
   "source": [
    "## Encoding Type Helper Function"
   ]
  },
  {
   "cell_type": "code",
   "execution_count": 80,
   "metadata": {},
   "outputs": [],
   "source": [
    "# with open(Complete_data, 'rb') as f:\n",
    "#     raw_data = f.read()\n",
    "#     result = chardet.detect(raw_data)\n",
    "#     encoding = result['encoding']\n",
    "# print(f\"Detected encoding: {encoding}\")"
   ]
  },
  {
   "cell_type": "code",
   "execution_count": 81,
   "metadata": {},
   "outputs": [],
   "source": [
    "# with open(Patient_Procedure, 'rb') as f:\n",
    "#     raw_data = f.read()\n",
    "#     result = chardet.detect(raw_data)\n",
    "#     encoding2 = result['encoding']\n",
    "# print(f\"Detected encoding: {encoding}\")"
   ]
  },
  {
   "cell_type": "markdown",
   "metadata": {},
   "source": [
    "## Temporarily remove empty columns"
   ]
  },
  {
   "cell_type": "code",
   "execution_count": 82,
   "metadata": {},
   "outputs": [
    {
     "name": "stderr",
     "output_type": "stream",
     "text": [
      "C:\\Users\\frank\\AppData\\Local\\Temp\\ipykernel_13928\\2635263723.py:1: DtypeWarning: Columns (1,4,10,16,52,85,86,91) have mixed types. Specify dtype option on import or set low_memory=False.\n",
      "  df = pd.read_csv(Complete_data, encoding=\"Windows-1252\")\n"
     ]
    },
    {
     "name": "stdout",
     "output_type": "stream",
     "text": [
      "['id_x_x', 'sikka_sub_task_x_x', 'sikka_sub_task_operation_x_x', 'name_x', 'office_x_x', 'patient', 'guarantor_x', 'provider_x', 'description', 'state_x', 'visible_to_patient', 'amount', 'estimated_cost', 'insurance_coverage', 'tooth_from', 'primary_insurance_estimate', 'secondary_insurance_estimate', 'plan_sr_no', 'entry_date', 'insurance_payment', 'treatment_plan_status', 'procedure_date', 'priority', 'approved', 'from_pms_x_x', 'id_y_x', 'from_pms_y_x', 'sikka_sub_task_y_x', 'sikka_sub_task_operation_y_x', 'uuid', 'patient_id', 'guarantor_y', 'office_y_x', 'fullname', 'first_name', 'middle_name', 'last_name', 'birth_date', 'address', 'city', 'state_y', 'first_visit', 'last_visit', 'email', 'phone', 'zip_code', 'practice', 'sikka_provider_id', 'primary_insurance_company_id', 'profile_picture', 'date_joined', 'zip_code_flag', 'address_comp', 'fetched_zip_code', 'fetched_zip_code_flag', 'zip_code_verified', 'final_zip_code', 'LATITUDE', 'LONGITUDE', 'id_x_y', 'from_pms_x_y', 'sikka_sub_task_x_y', 'sikka_sub_task_operation_x_y', 'office_x_y', 'procedure_code_x', 'treatment', 'tooth', 'insurance_estimate_x', 'estimated_cost_x', 'patient_responsibility', 'id_y_y', 'from_pms_y_y', 'sikka_sub_task_y_y', 'sikka_sub_task_operation_y_y', 'health_category', 'office_y_y', 'procedure_code_y', 'procedure_code_description', 'procedure_code_category', 'notes', 'patient_friendly_description', 'price', 'treatment_id']\n",
      "83\n",
      "['last_updated_x_x', 'status', 'tooth_to', 'surface', 'clinical_condition_id', 'collection_provider_id', 'created_by', 'last_updated_by', 'surface_quadrant_type', 'appointment_sr_no', 'doctor_note', 'doctor_note_date', 'video_link', 'date_executed', 'entry_date_converted', 'last_updated_y_x', 'user', 'country', 'last_login', 'insurance', 'balance', 'cust_id', 'gender', 'provider_y', 'last_updated_x_y', 'discount_x', 'last_updated_y_y', 'category', 'name_y', 'abbreaviation', 'procedure_code_category_id', 'explosion_code', 'submit_to_insurance', 'allow_discount', 'procedure_code_effect_on_patient_balance', 'procedure_code_effect_on_provider_production', 'procedure_code_effect_on_provider_collection', 'procedure_code_type', 'link', 'tooth_quad', 'estimated_cost_y', 'insurance_estimate_y', 'discount_y']\n",
      "43\n"
     ]
    }
   ],
   "source": [
    "df = pd.read_csv(Complete_data, encoding=\"Windows-1252\")\n",
    "cleaned_df = df.dropna(axis=1, how='all')\n",
    "cleaned_column_names = cleaned_df.columns.tolist()\n",
    "print(cleaned_column_names)\n",
    "print(cleaned_df.shape[1])\n",
    "\n",
    "original_column_names = df.columns.tolist()\n",
    "dropped_columns = [col for col in original_column_names if col not in cleaned_column_names]\n",
    "print(dropped_columns)\n",
    "print(len(dropped_columns))"
   ]
  },
  {
   "cell_type": "markdown",
   "metadata": {},
   "source": [
    "## Task 1: Focus on the treatment processing per day, consider the ones with more than 7 treatment per day."
   ]
  },
  {
   "cell_type": "code",
   "execution_count": 92,
   "metadata": {},
   "outputs": [
    {
     "data": {
      "text/html": [
       "<div>\n",
       "<style scoped>\n",
       "    .dataframe tbody tr th:only-of-type {\n",
       "        vertical-align: middle;\n",
       "    }\n",
       "\n",
       "    .dataframe tbody tr th {\n",
       "        vertical-align: top;\n",
       "    }\n",
       "\n",
       "    .dataframe thead th {\n",
       "        text-align: right;\n",
       "    }\n",
       "</style>\n",
       "<table border=\"1\" class=\"dataframe\">\n",
       "  <thead>\n",
       "    <tr style=\"text-align: right;\">\n",
       "      <th></th>\n",
       "      <th>procedure_code_y</th>\n",
       "      <th>procedure_code_y_len</th>\n",
       "    </tr>\n",
       "  </thead>\n",
       "  <tbody>\n",
       "    <tr>\n",
       "      <th>939</th>\n",
       "      <td>[1203, 2142, 12101, 43412, 62501, 67211, 99111]</td>\n",
       "      <td>7</td>\n",
       "    </tr>\n",
       "    <tr>\n",
       "      <th>1458</th>\n",
       "      <td>[1103, 1103, 2113, 2113, 2144, 2144, 2601, 260...</td>\n",
       "      <td>10</td>\n",
       "    </tr>\n",
       "    <tr>\n",
       "      <th>1475</th>\n",
       "      <td>[1103, 2142, 2601, 11112, 11117, 12101, 99600]</td>\n",
       "      <td>7</td>\n",
       "    </tr>\n",
       "    <tr>\n",
       "      <th>2810</th>\n",
       "      <td>[1103, 2112, 2142, 2601, 12101, 43412, 43413]</td>\n",
       "      <td>7</td>\n",
       "    </tr>\n",
       "    <tr>\n",
       "      <th>3156</th>\n",
       "      <td>[1202, 2114, 11101, 11113, 12101, 25531, 27602...</td>\n",
       "      <td>9</td>\n",
       "    </tr>\n",
       "  </tbody>\n",
       "</table>\n",
       "</div>"
      ],
      "text/plain": [
       "                                       procedure_code_y  procedure_code_y_len\n",
       "939     [1203, 2142, 12101, 43412, 62501, 67211, 99111]                     7\n",
       "1458  [1103, 1103, 2113, 2113, 2144, 2144, 2601, 260...                    10\n",
       "1475     [1103, 2142, 2601, 11112, 11117, 12101, 99600]                     7\n",
       "2810      [1103, 2112, 2142, 2601, 12101, 43412, 43413]                     7\n",
       "3156  [1202, 2114, 11101, 11113, 12101, 25531, 27602...                     9"
      ]
     },
     "execution_count": 92,
     "metadata": {},
     "output_type": "execute_result"
    }
   ],
   "source": [
    "df2 = pd.read_csv(Patient_Procedure)\n",
    "filtered_df = df2[df2['procedure_code_y_len'] >= 7]\n",
    "unnormal_case = filtered_df[['procedure_code_y', 'procedure_code_y_len']]\n",
    "unnormal_case.head()"
   ]
  },
  {
   "cell_type": "code",
   "execution_count": 94,
   "metadata": {},
   "outputs": [
    {
     "data": {
      "text/html": [
       "<div>\n",
       "<style scoped>\n",
       "    .dataframe tbody tr th:only-of-type {\n",
       "        vertical-align: middle;\n",
       "    }\n",
       "\n",
       "    .dataframe tbody tr th {\n",
       "        vertical-align: top;\n",
       "    }\n",
       "\n",
       "    .dataframe thead th {\n",
       "        text-align: right;\n",
       "    }\n",
       "</style>\n",
       "<table border=\"1\" class=\"dataframe\">\n",
       "  <thead>\n",
       "    <tr style=\"text-align: right;\">\n",
       "      <th></th>\n",
       "      <th>Count</th>\n",
       "    </tr>\n",
       "  </thead>\n",
       "  <tbody>\n",
       "    <tr>\n",
       "      <th>[1203, 2142, 12101, 43412, 62501, 67211, 99111]</th>\n",
       "      <td>1</td>\n",
       "    </tr>\n",
       "    <tr>\n",
       "      <th>[1103, 1103, 2113, 2113, 2144, 2144, 2601, 2601, 23311, 23311]</th>\n",
       "      <td>1</td>\n",
       "    </tr>\n",
       "    <tr>\n",
       "      <th>[1103, 2142, 2601, 11112, 11117, 12101, 99600]</th>\n",
       "      <td>1</td>\n",
       "    </tr>\n",
       "    <tr>\n",
       "      <th>[1103, 2112, 2142, 2601, 12101, 43412, 43413]</th>\n",
       "      <td>1</td>\n",
       "    </tr>\n",
       "    <tr>\n",
       "      <th>[1202, 2114, 11101, 11113, 12101, 25531, 27602, 99111, 99111]</th>\n",
       "      <td>1</td>\n",
       "    </tr>\n",
       "  </tbody>\n",
       "</table>\n",
       "</div>"
      ],
      "text/plain": [
       "                                                    Count\n",
       "[1203, 2142, 12101, 43412, 62501, 67211, 99111]         1\n",
       "[1103, 1103, 2113, 2113, 2144, 2144, 2601, 2601...      1\n",
       "[1103, 2142, 2601, 11112, 11117, 12101, 99600]          1\n",
       "[1103, 2112, 2142, 2601, 12101, 43412, 43413]           1\n",
       "[1202, 2114, 11101, 11113, 12101, 25531, 27602,...      1"
      ]
     },
     "execution_count": 94,
     "metadata": {},
     "output_type": "execute_result"
    }
   ],
   "source": [
    "case_counts = Counter(unnormal_case['procedure_code_y'])\n",
    "case_summary = pd.DataFrame.from_dict(case_counts, orient='index', columns=['Count'])\n",
    "case_summary.head()"
   ]
  },
  {
   "cell_type": "code",
   "execution_count": 95,
   "metadata": {},
   "outputs": [
    {
     "data": {
      "text/html": [
       "<div>\n",
       "<style scoped>\n",
       "    .dataframe tbody tr th:only-of-type {\n",
       "        vertical-align: middle;\n",
       "    }\n",
       "\n",
       "    .dataframe tbody tr th {\n",
       "        vertical-align: top;\n",
       "    }\n",
       "\n",
       "    .dataframe thead th {\n",
       "        text-align: right;\n",
       "    }\n",
       "</style>\n",
       "<table border=\"1\" class=\"dataframe\">\n",
       "  <thead>\n",
       "    <tr style=\"text-align: right;\">\n",
       "      <th></th>\n",
       "      <th>Count</th>\n",
       "    </tr>\n",
       "  </thead>\n",
       "  <tbody>\n",
       "    <tr>\n",
       "      <th>[1202, 2144, 2144, 11107, 11107, 11113, 11113]</th>\n",
       "      <td>23</td>\n",
       "    </tr>\n",
       "    <tr>\n",
       "      <th>[1103, 2112, 2144, 2601, 11103, 12101, 99700]</th>\n",
       "      <td>41</td>\n",
       "    </tr>\n",
       "    <tr>\n",
       "      <th>[1202, 1202, 11107, 11107, 11113, 11113, 12111, 12111]</th>\n",
       "      <td>11</td>\n",
       "    </tr>\n",
       "    <tr>\n",
       "      <th>[1202, 1202, 2144, 2144, 11107, 11107, 11113, 11113]</th>\n",
       "      <td>29</td>\n",
       "    </tr>\n",
       "    <tr>\n",
       "      <th>[1202, 1202, 2144, 2144, 11107, 11107, 11113, 11113, 12111, 12111]</th>\n",
       "      <td>11</td>\n",
       "    </tr>\n",
       "  </tbody>\n",
       "</table>\n",
       "</div>"
      ],
      "text/plain": [
       "                                                    Count\n",
       "[1202, 2144, 2144, 11107, 11107, 11113, 11113]         23\n",
       "[1103, 2112, 2144, 2601, 11103, 12101, 99700]          41\n",
       "[1202, 1202, 11107, 11107, 11113, 11113, 12111,...     11\n",
       "[1202, 1202, 2144, 2144, 11107, 11107, 11113, 1...     29\n",
       "[1202, 1202, 2144, 2144, 11107, 11107, 11113, 1...     11"
      ]
     },
     "execution_count": 95,
     "metadata": {},
     "output_type": "execute_result"
    }
   ],
   "source": [
    "# Consider the count of less than 10 as ramdom occurrence\n",
    "case_summary = case_summary[case_summary['Count'] >= 10]\n",
    "case_summary.head()"
   ]
  },
  {
   "cell_type": "code",
   "execution_count": 96,
   "metadata": {},
   "outputs": [
    {
     "name": "stdout",
     "output_type": "stream",
     "text": [
      "Unique Codes [1103, 1202, 2112, 2142, 2144, 2601, 11101, 11103, 11107, 11111, 11113, 11117, 12101, 12111, 96103, 99700]\n"
     ]
    }
   ],
   "source": [
    "# Get the procedure code for special case and use them to find the treatment description in full dataset\n",
    "unique_numbers = set()\n",
    "for idx in case_summary.index:\n",
    "    numbers = eval(idx) if isinstance(idx, str) else idx\n",
    "    unique_numbers.update(numbers)\n",
    "unique_numbers = sorted(unique_numbers)\n",
    "print(\"Unique Codes\", unique_numbers)\n"
   ]
  },
  {
   "cell_type": "code",
   "execution_count": 97,
   "metadata": {},
   "outputs": [
    {
     "data": {
      "text/html": [
       "<div>\n",
       "<style scoped>\n",
       "    .dataframe tbody tr th:only-of-type {\n",
       "        vertical-align: middle;\n",
       "    }\n",
       "\n",
       "    .dataframe tbody tr th {\n",
       "        vertical-align: top;\n",
       "    }\n",
       "\n",
       "    .dataframe thead th {\n",
       "        text-align: right;\n",
       "    }\n",
       "</style>\n",
       "<table border=\"1\" class=\"dataframe\">\n",
       "  <thead>\n",
       "    <tr style=\"text-align: right;\">\n",
       "      <th></th>\n",
       "      <th>procedure_code_y</th>\n",
       "      <th>special_code_description</th>\n",
       "      <th>count</th>\n",
       "    </tr>\n",
       "  </thead>\n",
       "  <tbody>\n",
       "    <tr>\n",
       "      <th>12</th>\n",
       "      <td>12101</td>\n",
       "      <td>!!!Fluoride Treatment Foam Gel or Rinse</td>\n",
       "      <td>25357</td>\n",
       "    </tr>\n",
       "    <tr>\n",
       "      <th>10</th>\n",
       "      <td>11113</td>\n",
       "      <td>Scaling Three Units</td>\n",
       "      <td>22911</td>\n",
       "    </tr>\n",
       "    <tr>\n",
       "      <th>1</th>\n",
       "      <td>1202</td>\n",
       "      <td>Exam &amp; Diagnosis Limited Oral Previous Patient...</td>\n",
       "      <td>21516</td>\n",
       "    </tr>\n",
       "    <tr>\n",
       "      <th>6</th>\n",
       "      <td>11101</td>\n",
       "      <td>Polishing One Unit of Time</td>\n",
       "      <td>16154</td>\n",
       "    </tr>\n",
       "    <tr>\n",
       "      <th>11</th>\n",
       "      <td>11117</td>\n",
       "      <td>Scaling 1/2 Unit</td>\n",
       "      <td>15616</td>\n",
       "    </tr>\n",
       "    <tr>\n",
       "      <th>8</th>\n",
       "      <td>11107</td>\n",
       "      <td>Polishing 1/2 Unit of Time</td>\n",
       "      <td>15010</td>\n",
       "    </tr>\n",
       "    <tr>\n",
       "      <th>3</th>\n",
       "      <td>2142</td>\n",
       "      <td>Radiographs Intraoral Bitewing-2 Images</td>\n",
       "      <td>14629</td>\n",
       "    </tr>\n",
       "    <tr>\n",
       "      <th>4</th>\n",
       "      <td>2144</td>\n",
       "      <td>Radiographs Intraoral Bitewing - 4 Images</td>\n",
       "      <td>12256</td>\n",
       "    </tr>\n",
       "    <tr>\n",
       "      <th>5</th>\n",
       "      <td>2601</td>\n",
       "      <td>Radiographs Panoramic - 1 Image</td>\n",
       "      <td>11676</td>\n",
       "    </tr>\n",
       "    <tr>\n",
       "      <th>9</th>\n",
       "      <td>11111</td>\n",
       "      <td>Scaling One Unit of Time</td>\n",
       "      <td>7780</td>\n",
       "    </tr>\n",
       "    <tr>\n",
       "      <th>0</th>\n",
       "      <td>1103</td>\n",
       "      <td>Exam and Diagnosis Complete - Permanent Dentition</td>\n",
       "      <td>7569</td>\n",
       "    </tr>\n",
       "    <tr>\n",
       "      <th>2</th>\n",
       "      <td>2112</td>\n",
       "      <td>Radiographs Intraoral Periapical - 2 Image</td>\n",
       "      <td>6104</td>\n",
       "    </tr>\n",
       "    <tr>\n",
       "      <th>13</th>\n",
       "      <td>12111</td>\n",
       "      <td>Flouride Rinse</td>\n",
       "      <td>2895</td>\n",
       "    </tr>\n",
       "    <tr>\n",
       "      <th>15</th>\n",
       "      <td>99700</td>\n",
       "      <td>!!!New Patient Exam-Adult</td>\n",
       "      <td>1288</td>\n",
       "    </tr>\n",
       "    <tr>\n",
       "      <th>7</th>\n",
       "      <td>11103</td>\n",
       "      <td>!!!Prophylaxis Permanent Dentition</td>\n",
       "      <td>1043</td>\n",
       "    </tr>\n",
       "    <tr>\n",
       "      <th>14</th>\n",
       "      <td>96103</td>\n",
       "      <td>Dispensing Non Emergency Prescription +E</td>\n",
       "      <td>897</td>\n",
       "    </tr>\n",
       "  </tbody>\n",
       "</table>\n",
       "</div>"
      ],
      "text/plain": [
       "    procedure_code_y                           special_code_description  count\n",
       "12             12101            !!!Fluoride Treatment Foam Gel or Rinse  25357\n",
       "10             11113                                Scaling Three Units  22911\n",
       "1               1202  Exam & Diagnosis Limited Oral Previous Patient...  21516\n",
       "6              11101                         Polishing One Unit of Time  16154\n",
       "11             11117                                   Scaling 1/2 Unit  15616\n",
       "8              11107                         Polishing 1/2 Unit of Time  15010\n",
       "3               2142            Radiographs Intraoral Bitewing-2 Images  14629\n",
       "4               2144          Radiographs Intraoral Bitewing - 4 Images  12256\n",
       "5               2601                    Radiographs Panoramic - 1 Image  11676\n",
       "9              11111                           Scaling One Unit of Time   7780\n",
       "0               1103  Exam and Diagnosis Complete - Permanent Dentition   7569\n",
       "2               2112         Radiographs Intraoral Periapical - 2 Image   6104\n",
       "13             12111                                     Flouride Rinse   2895\n",
       "15             99700                          !!!New Patient Exam-Adult   1288\n",
       "7              11103                 !!!Prophylaxis Permanent Dentition   1043\n",
       "14             96103           Dispensing Non Emergency Prescription +E    897"
      ]
     },
     "execution_count": 97,
     "metadata": {},
     "output_type": "execute_result"
    }
   ],
   "source": [
    "special_descriptions = []\n",
    "for i in unique_numbers:\n",
    "    matching_rows = df[df['procedure_code_y'] == i]\n",
    "    if not matching_rows.empty:\n",
    "        special_descriptions.append({\n",
    "            'procedure_code_y': i,\n",
    "            'special_code_description': matching_rows['procedure_code_description'].iloc[0],  # Take the first match\n",
    "            'count': len(matching_rows)\n",
    "        })\n",
    "summary = pd.DataFrame(special_descriptions).sort_values('count', ascending=False)\n",
    "summary\n"
   ]
  },
  {
   "cell_type": "code",
   "execution_count": 98,
   "metadata": {},
   "outputs": [
    {
     "data": {
      "text/html": [
       "<div>\n",
       "<style scoped>\n",
       "    .dataframe tbody tr th:only-of-type {\n",
       "        vertical-align: middle;\n",
       "    }\n",
       "\n",
       "    .dataframe tbody tr th {\n",
       "        vertical-align: top;\n",
       "    }\n",
       "\n",
       "    .dataframe thead th {\n",
       "        text-align: right;\n",
       "    }\n",
       "</style>\n",
       "<table border=\"1\" class=\"dataframe\">\n",
       "  <thead>\n",
       "    <tr style=\"text-align: right;\">\n",
       "      <th></th>\n",
       "      <th>Count</th>\n",
       "      <th>Description</th>\n",
       "    </tr>\n",
       "  </thead>\n",
       "  <tbody>\n",
       "    <tr>\n",
       "      <th>[1103, 2112, 2144, 2601, 11103, 12101, 99700]</th>\n",
       "      <td>41</td>\n",
       "      <td>Exam and Diagnosis Complete - Permanent Dentit...</td>\n",
       "    </tr>\n",
       "    <tr>\n",
       "      <th>[1202, 1202, 2144, 2144, 11107, 11107, 11113, 11113]</th>\n",
       "      <td>29</td>\n",
       "      <td>Exam &amp; Diagnosis Limited Oral Previous Patient...</td>\n",
       "    </tr>\n",
       "    <tr>\n",
       "      <th>[1202, 2144, 2144, 11107, 11107, 11113, 11113]</th>\n",
       "      <td>23</td>\n",
       "      <td>Exam &amp; Diagnosis Limited Oral Previous Patient...</td>\n",
       "    </tr>\n",
       "    <tr>\n",
       "      <th>[1103, 2112, 2142, 2601, 11103, 12101, 99700]</th>\n",
       "      <td>20</td>\n",
       "      <td>Exam and Diagnosis Complete - Permanent Dentit...</td>\n",
       "    </tr>\n",
       "    <tr>\n",
       "      <th>[1103, 2112, 2144, 2601, 11111, 96103, 99700]</th>\n",
       "      <td>16</td>\n",
       "      <td>Exam and Diagnosis Complete - Permanent Dentit...</td>\n",
       "    </tr>\n",
       "    <tr>\n",
       "      <th>[1202, 2142, 2601, 11101, 11111, 11117, 12101]</th>\n",
       "      <td>14</td>\n",
       "      <td>Exam &amp; Diagnosis Limited Oral Previous Patient...</td>\n",
       "    </tr>\n",
       "    <tr>\n",
       "      <th>[1202, 1202, 11107, 11107, 11113, 11113, 12111, 12111]</th>\n",
       "      <td>11</td>\n",
       "      <td>Exam &amp; Diagnosis Limited Oral Previous Patient...</td>\n",
       "    </tr>\n",
       "    <tr>\n",
       "      <th>[1202, 1202, 2144, 2144, 11107, 11107, 11113, 11113, 12111, 12111]</th>\n",
       "      <td>11</td>\n",
       "      <td>Exam &amp; Diagnosis Limited Oral Previous Patient...</td>\n",
       "    </tr>\n",
       "  </tbody>\n",
       "</table>\n",
       "</div>"
      ],
      "text/plain": [
       "                                                    Count  \\\n",
       "[1103, 2112, 2144, 2601, 11103, 12101, 99700]          41   \n",
       "[1202, 1202, 2144, 2144, 11107, 11107, 11113, 1...     29   \n",
       "[1202, 2144, 2144, 11107, 11107, 11113, 11113]         23   \n",
       "[1103, 2112, 2142, 2601, 11103, 12101, 99700]          20   \n",
       "[1103, 2112, 2144, 2601, 11111, 96103, 99700]          16   \n",
       "[1202, 2142, 2601, 11101, 11111, 11117, 12101]         14   \n",
       "[1202, 1202, 11107, 11107, 11113, 11113, 12111,...     11   \n",
       "[1202, 1202, 2144, 2144, 11107, 11107, 11113, 1...     11   \n",
       "\n",
       "                                                                                          Description  \n",
       "[1103, 2112, 2144, 2601, 11103, 12101, 99700]       Exam and Diagnosis Complete - Permanent Dentit...  \n",
       "[1202, 1202, 2144, 2144, 11107, 11107, 11113, 1...  Exam & Diagnosis Limited Oral Previous Patient...  \n",
       "[1202, 2144, 2144, 11107, 11107, 11113, 11113]      Exam & Diagnosis Limited Oral Previous Patient...  \n",
       "[1103, 2112, 2142, 2601, 11103, 12101, 99700]       Exam and Diagnosis Complete - Permanent Dentit...  \n",
       "[1103, 2112, 2144, 2601, 11111, 96103, 99700]       Exam and Diagnosis Complete - Permanent Dentit...  \n",
       "[1202, 2142, 2601, 11101, 11111, 11117, 12101]      Exam & Diagnosis Limited Oral Previous Patient...  \n",
       "[1202, 1202, 11107, 11107, 11113, 11113, 12111,...  Exam & Diagnosis Limited Oral Previous Patient...  \n",
       "[1202, 1202, 2144, 2144, 11107, 11107, 11113, 1...  Exam & Diagnosis Limited Oral Previous Patient...  "
      ]
     },
     "execution_count": 98,
     "metadata": {},
     "output_type": "execute_result"
    }
   ],
   "source": [
    "code_to_description = dict(zip(summary['procedure_code_y'], summary['special_code_description']))\n",
    "case_summary['Description'] = case_summary.index.map(lambda codes: \", \".join([code_to_description[int(code)] for code in eval(codes) if int(code) in code_to_description]))\n",
    "case_summary.sort_values('Count', ascending=False)"
   ]
  },
  {
   "cell_type": "markdown",
   "metadata": {},
   "source": [
    "- Above is one table that shows the **unnormal treatment groups** (more than 7 treatments applied to one patient one day) that have happened more than 10 times in our data.  \n",
    "- This table includes the description of what the treatment group as well as the exact times these treatment group appeared.\n",
    "- These groups may reflect specific orders of the treatment group that doctors already knew;  \n",
    "- But some are possibly not, and we can use these groups for the use of next-step-treatment prediction reference"
   ]
  },
  {
   "cell_type": "markdown",
   "metadata": {},
   "source": [
    "---"
   ]
  },
  {
   "cell_type": "markdown",
   "metadata": {},
   "source": [
    "## Task 2 Use aprior algorithm on co-occurrence detection"
   ]
  },
  {
   "cell_type": "code",
   "execution_count": null,
   "metadata": {},
   "outputs": [],
   "source": []
  }
 ],
 "metadata": {
  "kernelspec": {
   "display_name": "base",
   "language": "python",
   "name": "python3"
  },
  "language_info": {
   "codemirror_mode": {
    "name": "ipython",
    "version": 3
   },
   "file_extension": ".py",
   "mimetype": "text/x-python",
   "name": "python",
   "nbconvert_exporter": "python",
   "pygments_lexer": "ipython3",
   "version": "3.12.4"
  }
 },
 "nbformat": 4,
 "nbformat_minor": 2
}
